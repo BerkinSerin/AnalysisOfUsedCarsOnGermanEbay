{
 "cells": [
  {
   "cell_type": "markdown",
   "metadata": {},
   "source": [
    "# Analysis of Used Cars on German eBay"
   ]
  },
  {
   "cell_type": "markdown",
   "metadata": {},
   "source": [
    "In this project, I will work with a dataset of used cars from eBay Kleinanzeigen, a classifieds section of the German eBay website.\n",
    "\n",
    "The dataset was originally scraped and uploaded to Kaggle by user orgesleka however the dataset is not available on Kaggle anymore, but you can find it [here](https://data.world/data-society/used-cars-data).\n",
    "\n",
    "## Information About the Dataset\n",
    "**dateCrawled** - When this ad was first crawled. All field-values are taken from this date.<br>\n",
    "**name** - Name of the car.<br>\n",
    "**seller** - Whether the seller is private or a dealer.<br>\n",
    "**offerType** - The type of listing.<br>\n",
    "**price** - The price on the ad to sell the car.<br>\n",
    "**abtest** - Whether the listing is included in an A/B test.<br>\n",
    "**vehicleType** - The vehicle Type.<br>\n",
    "**yearOfRegistration** - The year in which the car was first registered.<br>\n",
    "**gearbox** - The transmission type.<br>\n",
    "**powerPS** - The power of the car in PS.<br>\n",
    "**model** - The car model name.<br>\n",
    "**kilometer** - How many kilometers the car has driven.<br>\n",
    "**monthOfRegistration** - The month in which the car was first registered.<br>\n",
    "**fuelType** - What type of fuel the car uses.<br>\n",
    "**brand** - The brand of the car.<br>\n",
    "**notRepairedDamage** - If the car has a damage which is not yet repaired.<br>\n",
    "**dateCreated** - The date on which the eBay listing was created.<br>\n",
    "**nrOfPictures** - The number of pictures in the ad.<br>\n",
    "**postalCode** - The postal code for the location of the vehicle.<br>\n",
    "**lastSeenOnline** - When the crawler saw this ad last online.<br>"
   ]
  },
  {
   "cell_type": "markdown",
   "metadata": {},
   "source": [
    "## Import Libraries and Explore Data"
   ]
  },
  {
   "cell_type": "code",
   "execution_count": 1,
   "metadata": {
    "scrolled": true
   },
   "outputs": [],
   "source": [
    "# import libraries\n",
    "\n",
    "import pandas as pd\n",
    "import numpy as np\n",
    "\n",
    "# read csv into dataframe\n",
    "\n",
    "autos = pd.read_csv('autos.csv', encoding='Latin-1') #Latin-1 is parameter is mandatory"
   ]
  },
  {
   "cell_type": "code",
   "execution_count": 2,
   "metadata": {},
   "outputs": [
    {
     "data": {
      "text/html": [
       "<div>\n",
       "<style scoped>\n",
       "    .dataframe tbody tr th:only-of-type {\n",
       "        vertical-align: middle;\n",
       "    }\n",
       "\n",
       "    .dataframe tbody tr th {\n",
       "        vertical-align: top;\n",
       "    }\n",
       "\n",
       "    .dataframe thead th {\n",
       "        text-align: right;\n",
       "    }\n",
       "</style>\n",
       "<table border=\"1\" class=\"dataframe\">\n",
       "  <thead>\n",
       "    <tr style=\"text-align: right;\">\n",
       "      <th></th>\n",
       "      <th>dateCrawled</th>\n",
       "      <th>name</th>\n",
       "      <th>seller</th>\n",
       "      <th>offerType</th>\n",
       "      <th>price</th>\n",
       "      <th>abtest</th>\n",
       "      <th>vehicleType</th>\n",
       "      <th>yearOfRegistration</th>\n",
       "      <th>gearbox</th>\n",
       "      <th>powerPS</th>\n",
       "      <th>model</th>\n",
       "      <th>kilometer</th>\n",
       "      <th>monthOfRegistration</th>\n",
       "      <th>fuelType</th>\n",
       "      <th>brand</th>\n",
       "      <th>notRepairedDamage</th>\n",
       "      <th>dateCreated</th>\n",
       "      <th>nrOfPictures</th>\n",
       "      <th>postalCode</th>\n",
       "      <th>lastSeen</th>\n",
       "    </tr>\n",
       "  </thead>\n",
       "  <tbody>\n",
       "    <tr>\n",
       "      <td>0</td>\n",
       "      <td>2016-03-24 11:52:17</td>\n",
       "      <td>Golf_3_1.6</td>\n",
       "      <td>privat</td>\n",
       "      <td>Angebot</td>\n",
       "      <td>480</td>\n",
       "      <td>test</td>\n",
       "      <td>NaN</td>\n",
       "      <td>1993</td>\n",
       "      <td>manuell</td>\n",
       "      <td>0</td>\n",
       "      <td>golf</td>\n",
       "      <td>150000</td>\n",
       "      <td>0</td>\n",
       "      <td>benzin</td>\n",
       "      <td>volkswagen</td>\n",
       "      <td>NaN</td>\n",
       "      <td>2016-03-24 00:00:00</td>\n",
       "      <td>0</td>\n",
       "      <td>70435</td>\n",
       "      <td>2016-04-07 03:16:57</td>\n",
       "    </tr>\n",
       "    <tr>\n",
       "      <td>1</td>\n",
       "      <td>2016-03-24 10:58:45</td>\n",
       "      <td>A5_Sportback_2.7_Tdi</td>\n",
       "      <td>privat</td>\n",
       "      <td>Angebot</td>\n",
       "      <td>18300</td>\n",
       "      <td>test</td>\n",
       "      <td>coupe</td>\n",
       "      <td>2011</td>\n",
       "      <td>manuell</td>\n",
       "      <td>190</td>\n",
       "      <td>NaN</td>\n",
       "      <td>125000</td>\n",
       "      <td>5</td>\n",
       "      <td>diesel</td>\n",
       "      <td>audi</td>\n",
       "      <td>ja</td>\n",
       "      <td>2016-03-24 00:00:00</td>\n",
       "      <td>0</td>\n",
       "      <td>66954</td>\n",
       "      <td>2016-04-07 01:46:50</td>\n",
       "    </tr>\n",
       "    <tr>\n",
       "      <td>2</td>\n",
       "      <td>2016-03-14 12:52:21</td>\n",
       "      <td>Jeep_Grand_Cherokee_\"Overland\"</td>\n",
       "      <td>privat</td>\n",
       "      <td>Angebot</td>\n",
       "      <td>9800</td>\n",
       "      <td>test</td>\n",
       "      <td>suv</td>\n",
       "      <td>2004</td>\n",
       "      <td>automatik</td>\n",
       "      <td>163</td>\n",
       "      <td>grand</td>\n",
       "      <td>125000</td>\n",
       "      <td>8</td>\n",
       "      <td>diesel</td>\n",
       "      <td>jeep</td>\n",
       "      <td>NaN</td>\n",
       "      <td>2016-03-14 00:00:00</td>\n",
       "      <td>0</td>\n",
       "      <td>90480</td>\n",
       "      <td>2016-04-05 12:47:46</td>\n",
       "    </tr>\n",
       "    <tr>\n",
       "      <td>3</td>\n",
       "      <td>2016-03-17 16:54:04</td>\n",
       "      <td>GOLF_4_1_4__3TÜRER</td>\n",
       "      <td>privat</td>\n",
       "      <td>Angebot</td>\n",
       "      <td>1500</td>\n",
       "      <td>test</td>\n",
       "      <td>kleinwagen</td>\n",
       "      <td>2001</td>\n",
       "      <td>manuell</td>\n",
       "      <td>75</td>\n",
       "      <td>golf</td>\n",
       "      <td>150000</td>\n",
       "      <td>6</td>\n",
       "      <td>benzin</td>\n",
       "      <td>volkswagen</td>\n",
       "      <td>nein</td>\n",
       "      <td>2016-03-17 00:00:00</td>\n",
       "      <td>0</td>\n",
       "      <td>91074</td>\n",
       "      <td>2016-03-17 17:40:17</td>\n",
       "    </tr>\n",
       "    <tr>\n",
       "      <td>4</td>\n",
       "      <td>2016-03-31 17:25:20</td>\n",
       "      <td>Skoda_Fabia_1.4_TDI_PD_Classic</td>\n",
       "      <td>privat</td>\n",
       "      <td>Angebot</td>\n",
       "      <td>3600</td>\n",
       "      <td>test</td>\n",
       "      <td>kleinwagen</td>\n",
       "      <td>2008</td>\n",
       "      <td>manuell</td>\n",
       "      <td>69</td>\n",
       "      <td>fabia</td>\n",
       "      <td>90000</td>\n",
       "      <td>7</td>\n",
       "      <td>diesel</td>\n",
       "      <td>skoda</td>\n",
       "      <td>nein</td>\n",
       "      <td>2016-03-31 00:00:00</td>\n",
       "      <td>0</td>\n",
       "      <td>60437</td>\n",
       "      <td>2016-04-06 10:17:21</td>\n",
       "    </tr>\n",
       "  </tbody>\n",
       "</table>\n",
       "</div>"
      ],
      "text/plain": [
       "           dateCrawled                            name  seller offerType  \\\n",
       "0  2016-03-24 11:52:17                      Golf_3_1.6  privat   Angebot   \n",
       "1  2016-03-24 10:58:45            A5_Sportback_2.7_Tdi  privat   Angebot   \n",
       "2  2016-03-14 12:52:21  Jeep_Grand_Cherokee_\"Overland\"  privat   Angebot   \n",
       "3  2016-03-17 16:54:04              GOLF_4_1_4__3TÜRER  privat   Angebot   \n",
       "4  2016-03-31 17:25:20  Skoda_Fabia_1.4_TDI_PD_Classic  privat   Angebot   \n",
       "\n",
       "   price abtest vehicleType  yearOfRegistration    gearbox  powerPS  model  \\\n",
       "0    480   test         NaN                1993    manuell        0   golf   \n",
       "1  18300   test       coupe                2011    manuell      190    NaN   \n",
       "2   9800   test         suv                2004  automatik      163  grand   \n",
       "3   1500   test  kleinwagen                2001    manuell       75   golf   \n",
       "4   3600   test  kleinwagen                2008    manuell       69  fabia   \n",
       "\n",
       "   kilometer  monthOfRegistration fuelType       brand notRepairedDamage  \\\n",
       "0     150000                    0   benzin  volkswagen               NaN   \n",
       "1     125000                    5   diesel        audi                ja   \n",
       "2     125000                    8   diesel        jeep               NaN   \n",
       "3     150000                    6   benzin  volkswagen              nein   \n",
       "4      90000                    7   diesel       skoda              nein   \n",
       "\n",
       "           dateCreated  nrOfPictures  postalCode             lastSeen  \n",
       "0  2016-03-24 00:00:00             0       70435  2016-04-07 03:16:57  \n",
       "1  2016-03-24 00:00:00             0       66954  2016-04-07 01:46:50  \n",
       "2  2016-03-14 00:00:00             0       90480  2016-04-05 12:47:46  \n",
       "3  2016-03-17 00:00:00             0       91074  2016-03-17 17:40:17  \n",
       "4  2016-03-31 00:00:00             0       60437  2016-04-06 10:17:21  "
      ]
     },
     "execution_count": 2,
     "metadata": {},
     "output_type": "execute_result"
    }
   ],
   "source": [
    "autos.head()"
   ]
  },
  {
   "cell_type": "code",
   "execution_count": 3,
   "metadata": {
    "scrolled": true
   },
   "outputs": [
    {
     "name": "stdout",
     "output_type": "stream",
     "text": [
      "<class 'pandas.core.frame.DataFrame'>\n",
      "RangeIndex: 371528 entries, 0 to 371527\n",
      "Data columns (total 20 columns):\n",
      "dateCrawled            371528 non-null object\n",
      "name                   371528 non-null object\n",
      "seller                 371528 non-null object\n",
      "offerType              371528 non-null object\n",
      "price                  371528 non-null int64\n",
      "abtest                 371528 non-null object\n",
      "vehicleType            333659 non-null object\n",
      "yearOfRegistration     371528 non-null int64\n",
      "gearbox                351319 non-null object\n",
      "powerPS                371528 non-null int64\n",
      "model                  351044 non-null object\n",
      "kilometer              371528 non-null int64\n",
      "monthOfRegistration    371528 non-null int64\n",
      "fuelType               338142 non-null object\n",
      "brand                  371528 non-null object\n",
      "notRepairedDamage      299468 non-null object\n",
      "dateCreated            371528 non-null object\n",
      "nrOfPictures           371528 non-null int64\n",
      "postalCode             371528 non-null int64\n",
      "lastSeen               371528 non-null object\n",
      "dtypes: int64(7), object(13)\n",
      "memory usage: 56.7+ MB\n"
     ]
    }
   ],
   "source": [
    "autos.info()"
   ]
  },
  {
   "cell_type": "markdown",
   "metadata": {},
   "source": [
    "As it can be seen from the info method's results vehicleType, gearbox, model, fuelType, notRepairedDamage columns have lots of null values. These values should be handled.\n",
    "\n",
    "\n",
    "The columns are all in English yet the values are all German. We can translate the German words and replace them with English counterparts. Let's see how many German words we should translate before moving on:\n",
    "\n",
    "## Translate German Words\n",
    "\n",
    "#### Seller Column"
   ]
  },
  {
   "cell_type": "code",
   "execution_count": 4,
   "metadata": {},
   "outputs": [
    {
     "data": {
      "text/plain": [
       "array(['privat', 'gewerblich'], dtype=object)"
      ]
     },
     "execution_count": 4,
     "metadata": {},
     "output_type": "execute_result"
    }
   ],
   "source": [
    "autos['seller'].unique()"
   ]
  },
  {
   "cell_type": "markdown",
   "metadata": {},
   "source": [
    "We have two different German words Privat and Gewerblich. Which are Private and Commercial respectively. Let's create a dictionary for them for later use."
   ]
  },
  {
   "cell_type": "code",
   "execution_count": 5,
   "metadata": {},
   "outputs": [],
   "source": [
    "seller_words = {'privat':'private', 'gewerblich':'commercial'}"
   ]
  },
  {
   "cell_type": "markdown",
   "metadata": {},
   "source": [
    "#### Offer Type Column"
   ]
  },
  {
   "cell_type": "code",
   "execution_count": 6,
   "metadata": {
    "scrolled": true
   },
   "outputs": [
    {
     "data": {
      "text/plain": [
       "array(['Angebot', 'Gesuch'], dtype=object)"
      ]
     },
     "execution_count": 6,
     "metadata": {},
     "output_type": "execute_result"
    }
   ],
   "source": [
    "autos['offerType'].unique()"
   ]
  },
  {
   "cell_type": "markdown",
   "metadata": {},
   "source": [
    "We have two different German words Angebot and Gesuch. Which are Offer and Request respectively. Let's create a dictionary for them for later use."
   ]
  },
  {
   "cell_type": "code",
   "execution_count": 7,
   "metadata": {},
   "outputs": [],
   "source": [
    "offerType_words = {'Angebot':'Offer', 'Gesuch':'Request'}"
   ]
  },
  {
   "cell_type": "markdown",
   "metadata": {},
   "source": [
    "#### Vehicle Type Column"
   ]
  },
  {
   "cell_type": "code",
   "execution_count": 8,
   "metadata": {
    "scrolled": true
   },
   "outputs": [
    {
     "data": {
      "text/plain": [
       "array([nan, 'coupe', 'suv', 'kleinwagen', 'limousine', 'cabrio', 'bus',\n",
       "       'kombi', 'andere'], dtype=object)"
      ]
     },
     "execution_count": 8,
     "metadata": {},
     "output_type": "execute_result"
    }
   ],
   "source": [
    "autos['vehicleType'].unique()"
   ]
  },
  {
   "cell_type": "markdown",
   "metadata": {},
   "source": [
    "We have three different German words Kleinwagen, kombi and andere. Which are Small Car, Station Wagon and Other respectively. Let's create a dictionary for them for later use."
   ]
  },
  {
   "cell_type": "code",
   "execution_count": 9,
   "metadata": {},
   "outputs": [],
   "source": [
    "vehicleType_words = {'kleinwagen':'small car', 'kombi':'station wagon', 'andere':'other'}"
   ]
  },
  {
   "cell_type": "markdown",
   "metadata": {},
   "source": [
    "#### Gearbox Column"
   ]
  },
  {
   "cell_type": "code",
   "execution_count": 10,
   "metadata": {},
   "outputs": [
    {
     "data": {
      "text/plain": [
       "array(['manuell', 'automatik', nan], dtype=object)"
      ]
     },
     "execution_count": 10,
     "metadata": {},
     "output_type": "execute_result"
    }
   ],
   "source": [
    "autos['gearbox'].unique()"
   ]
  },
  {
   "cell_type": "markdown",
   "metadata": {},
   "source": [
    "We have two different German words Manuell and Automatik. Which are Manual and Automatic respectively. Let's create a dictionary for them for later use."
   ]
  },
  {
   "cell_type": "code",
   "execution_count": 11,
   "metadata": {},
   "outputs": [],
   "source": [
    "gearbox_words = {'manuell':'manual', 'automatik':'automatic'}"
   ]
  },
  {
   "cell_type": "markdown",
   "metadata": {},
   "source": [
    "#### Fuel Type Column"
   ]
  },
  {
   "cell_type": "code",
   "execution_count": 12,
   "metadata": {},
   "outputs": [
    {
     "data": {
      "text/plain": [
       "array(['benzin', 'diesel', nan, 'lpg', 'andere', 'hybrid', 'cng',\n",
       "       'elektro'], dtype=object)"
      ]
     },
     "execution_count": 12,
     "metadata": {},
     "output_type": "execute_result"
    }
   ],
   "source": [
    "autos['fuelType'].unique()"
   ]
  },
  {
   "cell_type": "markdown",
   "metadata": {},
   "source": [
    "We have many different German words Benzin, Andere and Elektro. Which are Gasoline, Other and Electric respectively. Let's create a dictionary for them for later use."
   ]
  },
  {
   "cell_type": "code",
   "execution_count": 13,
   "metadata": {},
   "outputs": [],
   "source": [
    "fuelType_words = {'benzin':'gasoline', 'andere':'other', 'elektro':'electric'}"
   ]
  },
  {
   "cell_type": "markdown",
   "metadata": {},
   "source": [
    "#### Not Repaired Damage Column"
   ]
  },
  {
   "cell_type": "code",
   "execution_count": 14,
   "metadata": {},
   "outputs": [
    {
     "data": {
      "text/plain": [
       "array([nan, 'ja', 'nein'], dtype=object)"
      ]
     },
     "execution_count": 14,
     "metadata": {},
     "output_type": "execute_result"
    }
   ],
   "source": [
    "autos['notRepairedDamage'].unique()"
   ]
  },
  {
   "cell_type": "markdown",
   "metadata": {},
   "source": [
    "We have two different German words Ja and Nein. Which are Yes and No respectively. Let's create a dictionary for them for later use."
   ]
  },
  {
   "cell_type": "code",
   "execution_count": 15,
   "metadata": {},
   "outputs": [],
   "source": [
    "notRepairedDamage_words = {'ja':'yes', 'nein':'no'}"
   ]
  },
  {
   "cell_type": "markdown",
   "metadata": {},
   "source": [
    "We have finished all the columns needed translating from German to English. But now we have to map them to our dataset so the values can be translated in the dataset as well."
   ]
  },
  {
   "cell_type": "code",
   "execution_count": 17,
   "metadata": {},
   "outputs": [],
   "source": [
    "# iterate over the columns of the dataset and map related dictionaries to the columns\n",
    "for column in autos.columns:\n",
    "    if column == 'seller':\n",
    "        autos[column] = autos[column].map(seller_words)\n",
    "    elif column == 'offerType':\n",
    "        autos[column] = autos[column].map(offerType_words)\n",
    "    elif column == 'vehicleType':\n",
    "        autos[column] = autos[column].map(vehicleType_words)\n",
    "    elif column == 'gearbox':\n",
    "        autos[column] = autos[column].map(gearbox_words)\n",
    "    elif column == 'fuelType':\n",
    "        autos[column] = autos[column].map(fuelType_words)\n",
    "    elif column == 'notRepairedDamage':\n",
    "        autos[column] = autos[column].map(notRepairedDamage_words)\n",
    "    "
   ]
  },
  {
   "cell_type": "code",
   "execution_count": 18,
   "metadata": {},
   "outputs": [
    {
     "data": {
      "text/html": [
       "<div>\n",
       "<style scoped>\n",
       "    .dataframe tbody tr th:only-of-type {\n",
       "        vertical-align: middle;\n",
       "    }\n",
       "\n",
       "    .dataframe tbody tr th {\n",
       "        vertical-align: top;\n",
       "    }\n",
       "\n",
       "    .dataframe thead th {\n",
       "        text-align: right;\n",
       "    }\n",
       "</style>\n",
       "<table border=\"1\" class=\"dataframe\">\n",
       "  <thead>\n",
       "    <tr style=\"text-align: right;\">\n",
       "      <th></th>\n",
       "      <th>dateCrawled</th>\n",
       "      <th>name</th>\n",
       "      <th>seller</th>\n",
       "      <th>offerType</th>\n",
       "      <th>price</th>\n",
       "      <th>abtest</th>\n",
       "      <th>vehicleType</th>\n",
       "      <th>yearOfRegistration</th>\n",
       "      <th>gearbox</th>\n",
       "      <th>powerPS</th>\n",
       "      <th>model</th>\n",
       "      <th>kilometer</th>\n",
       "      <th>monthOfRegistration</th>\n",
       "      <th>fuelType</th>\n",
       "      <th>brand</th>\n",
       "      <th>notRepairedDamage</th>\n",
       "      <th>dateCreated</th>\n",
       "      <th>nrOfPictures</th>\n",
       "      <th>postalCode</th>\n",
       "      <th>lastSeen</th>\n",
       "    </tr>\n",
       "  </thead>\n",
       "  <tbody>\n",
       "    <tr>\n",
       "      <td>0</td>\n",
       "      <td>2016-03-24 11:52:17</td>\n",
       "      <td>Golf_3_1.6</td>\n",
       "      <td>private</td>\n",
       "      <td>Offer</td>\n",
       "      <td>480</td>\n",
       "      <td>test</td>\n",
       "      <td>NaN</td>\n",
       "      <td>1993</td>\n",
       "      <td>manual</td>\n",
       "      <td>0</td>\n",
       "      <td>golf</td>\n",
       "      <td>150000</td>\n",
       "      <td>0</td>\n",
       "      <td>gasoline</td>\n",
       "      <td>volkswagen</td>\n",
       "      <td>NaN</td>\n",
       "      <td>2016-03-24 00:00:00</td>\n",
       "      <td>0</td>\n",
       "      <td>70435</td>\n",
       "      <td>2016-04-07 03:16:57</td>\n",
       "    </tr>\n",
       "    <tr>\n",
       "      <td>1</td>\n",
       "      <td>2016-03-24 10:58:45</td>\n",
       "      <td>A5_Sportback_2.7_Tdi</td>\n",
       "      <td>private</td>\n",
       "      <td>Offer</td>\n",
       "      <td>18300</td>\n",
       "      <td>test</td>\n",
       "      <td>NaN</td>\n",
       "      <td>2011</td>\n",
       "      <td>manual</td>\n",
       "      <td>190</td>\n",
       "      <td>NaN</td>\n",
       "      <td>125000</td>\n",
       "      <td>5</td>\n",
       "      <td>NaN</td>\n",
       "      <td>audi</td>\n",
       "      <td>yes</td>\n",
       "      <td>2016-03-24 00:00:00</td>\n",
       "      <td>0</td>\n",
       "      <td>66954</td>\n",
       "      <td>2016-04-07 01:46:50</td>\n",
       "    </tr>\n",
       "    <tr>\n",
       "      <td>2</td>\n",
       "      <td>2016-03-14 12:52:21</td>\n",
       "      <td>Jeep_Grand_Cherokee_\"Overland\"</td>\n",
       "      <td>private</td>\n",
       "      <td>Offer</td>\n",
       "      <td>9800</td>\n",
       "      <td>test</td>\n",
       "      <td>NaN</td>\n",
       "      <td>2004</td>\n",
       "      <td>automatic</td>\n",
       "      <td>163</td>\n",
       "      <td>grand</td>\n",
       "      <td>125000</td>\n",
       "      <td>8</td>\n",
       "      <td>NaN</td>\n",
       "      <td>jeep</td>\n",
       "      <td>NaN</td>\n",
       "      <td>2016-03-14 00:00:00</td>\n",
       "      <td>0</td>\n",
       "      <td>90480</td>\n",
       "      <td>2016-04-05 12:47:46</td>\n",
       "    </tr>\n",
       "    <tr>\n",
       "      <td>3</td>\n",
       "      <td>2016-03-17 16:54:04</td>\n",
       "      <td>GOLF_4_1_4__3TÜRER</td>\n",
       "      <td>private</td>\n",
       "      <td>Offer</td>\n",
       "      <td>1500</td>\n",
       "      <td>test</td>\n",
       "      <td>small car</td>\n",
       "      <td>2001</td>\n",
       "      <td>manual</td>\n",
       "      <td>75</td>\n",
       "      <td>golf</td>\n",
       "      <td>150000</td>\n",
       "      <td>6</td>\n",
       "      <td>gasoline</td>\n",
       "      <td>volkswagen</td>\n",
       "      <td>no</td>\n",
       "      <td>2016-03-17 00:00:00</td>\n",
       "      <td>0</td>\n",
       "      <td>91074</td>\n",
       "      <td>2016-03-17 17:40:17</td>\n",
       "    </tr>\n",
       "    <tr>\n",
       "      <td>4</td>\n",
       "      <td>2016-03-31 17:25:20</td>\n",
       "      <td>Skoda_Fabia_1.4_TDI_PD_Classic</td>\n",
       "      <td>private</td>\n",
       "      <td>Offer</td>\n",
       "      <td>3600</td>\n",
       "      <td>test</td>\n",
       "      <td>small car</td>\n",
       "      <td>2008</td>\n",
       "      <td>manual</td>\n",
       "      <td>69</td>\n",
       "      <td>fabia</td>\n",
       "      <td>90000</td>\n",
       "      <td>7</td>\n",
       "      <td>NaN</td>\n",
       "      <td>skoda</td>\n",
       "      <td>no</td>\n",
       "      <td>2016-03-31 00:00:00</td>\n",
       "      <td>0</td>\n",
       "      <td>60437</td>\n",
       "      <td>2016-04-06 10:17:21</td>\n",
       "    </tr>\n",
       "  </tbody>\n",
       "</table>\n",
       "</div>"
      ],
      "text/plain": [
       "           dateCrawled                            name   seller offerType  \\\n",
       "0  2016-03-24 11:52:17                      Golf_3_1.6  private     Offer   \n",
       "1  2016-03-24 10:58:45            A5_Sportback_2.7_Tdi  private     Offer   \n",
       "2  2016-03-14 12:52:21  Jeep_Grand_Cherokee_\"Overland\"  private     Offer   \n",
       "3  2016-03-17 16:54:04              GOLF_4_1_4__3TÜRER  private     Offer   \n",
       "4  2016-03-31 17:25:20  Skoda_Fabia_1.4_TDI_PD_Classic  private     Offer   \n",
       "\n",
       "   price abtest vehicleType  yearOfRegistration    gearbox  powerPS  model  \\\n",
       "0    480   test         NaN                1993     manual        0   golf   \n",
       "1  18300   test         NaN                2011     manual      190    NaN   \n",
       "2   9800   test         NaN                2004  automatic      163  grand   \n",
       "3   1500   test   small car                2001     manual       75   golf   \n",
       "4   3600   test   small car                2008     manual       69  fabia   \n",
       "\n",
       "   kilometer  monthOfRegistration  fuelType       brand notRepairedDamage  \\\n",
       "0     150000                    0  gasoline  volkswagen               NaN   \n",
       "1     125000                    5       NaN        audi               yes   \n",
       "2     125000                    8       NaN        jeep               NaN   \n",
       "3     150000                    6  gasoline  volkswagen                no   \n",
       "4      90000                    7       NaN       skoda                no   \n",
       "\n",
       "           dateCreated  nrOfPictures  postalCode             lastSeen  \n",
       "0  2016-03-24 00:00:00             0       70435  2016-04-07 03:16:57  \n",
       "1  2016-03-24 00:00:00             0       66954  2016-04-07 01:46:50  \n",
       "2  2016-03-14 00:00:00             0       90480  2016-04-05 12:47:46  \n",
       "3  2016-03-17 00:00:00             0       91074  2016-03-17 17:40:17  \n",
       "4  2016-03-31 00:00:00             0       60437  2016-04-06 10:17:21  "
      ]
     },
     "execution_count": 18,
     "metadata": {},
     "output_type": "execute_result"
    }
   ],
   "source": [
    "autos.head()"
   ]
  },
  {
   "cell_type": "markdown",
   "metadata": {},
   "source": [
    "As it can be seen from the result all of the German words are translated successfully to English in the dataset. We will work on this dataset from now on."
   ]
  },
  {
   "cell_type": "markdown",
   "metadata": {},
   "source": [
    "\n",
    "\n",
    "Column names should be more descriptive and all *CamelCase* namings should be converted to *SnakeCase* for convenience.\n",
    "\n",
    "### Rename Columns"
   ]
  },
  {
   "cell_type": "code",
   "execution_count": 19,
   "metadata": {},
   "outputs": [
    {
     "data": {
      "text/plain": [
       "Index(['dateCrawled', 'name', 'seller', 'offerType', 'price', 'abtest',\n",
       "       'vehicleType', 'yearOfRegistration', 'gearbox', 'powerPS', 'model',\n",
       "       'kilometer', 'monthOfRegistration', 'fuelType', 'brand',\n",
       "       'notRepairedDamage', 'dateCreated', 'nrOfPictures', 'postalCode',\n",
       "       'lastSeen'],\n",
       "      dtype='object')"
      ]
     },
     "execution_count": 19,
     "metadata": {},
     "output_type": "execute_result"
    }
   ],
   "source": [
    "autos.columns"
   ]
  },
  {
   "cell_type": "code",
   "execution_count": 20,
   "metadata": {},
   "outputs": [],
   "source": [
    "autos.rename({'dateCrawled':'crawled_date', 'offerType':'offer_type', 'vehicleType':'vehicle_type',\n",
    "             'yearOfRegistration':'registration_year', 'powerPS':'power_ps', 'monthOfRegistration':'registration_month',\n",
    "             'fuelType':'fuel_type', 'notRepairedDamage':'unrepaired_damage', 'dateCreated':'ad_created',\n",
    "             'nrOfPictures':'nr_of_pictures', 'postalCode':'postal_code', 'lastSeen':'last_seen'}, axis=1, inplace=True)"
   ]
  },
  {
   "cell_type": "code",
   "execution_count": 21,
   "metadata": {},
   "outputs": [
    {
     "data": {
      "text/html": [
       "<div>\n",
       "<style scoped>\n",
       "    .dataframe tbody tr th:only-of-type {\n",
       "        vertical-align: middle;\n",
       "    }\n",
       "\n",
       "    .dataframe tbody tr th {\n",
       "        vertical-align: top;\n",
       "    }\n",
       "\n",
       "    .dataframe thead th {\n",
       "        text-align: right;\n",
       "    }\n",
       "</style>\n",
       "<table border=\"1\" class=\"dataframe\">\n",
       "  <thead>\n",
       "    <tr style=\"text-align: right;\">\n",
       "      <th></th>\n",
       "      <th>crawled_date</th>\n",
       "      <th>name</th>\n",
       "      <th>seller</th>\n",
       "      <th>offer_type</th>\n",
       "      <th>price</th>\n",
       "      <th>abtest</th>\n",
       "      <th>vehicle_type</th>\n",
       "      <th>registration_year</th>\n",
       "      <th>gearbox</th>\n",
       "      <th>power_ps</th>\n",
       "      <th>model</th>\n",
       "      <th>kilometer</th>\n",
       "      <th>registration_month</th>\n",
       "      <th>fuel_type</th>\n",
       "      <th>brand</th>\n",
       "      <th>unrepaired_damage</th>\n",
       "      <th>ad_created</th>\n",
       "      <th>nr_of_pictures</th>\n",
       "      <th>postal_code</th>\n",
       "      <th>last_seen</th>\n",
       "    </tr>\n",
       "  </thead>\n",
       "  <tbody>\n",
       "    <tr>\n",
       "      <td>0</td>\n",
       "      <td>2016-03-24 11:52:17</td>\n",
       "      <td>Golf_3_1.6</td>\n",
       "      <td>private</td>\n",
       "      <td>Offer</td>\n",
       "      <td>480</td>\n",
       "      <td>test</td>\n",
       "      <td>NaN</td>\n",
       "      <td>1993</td>\n",
       "      <td>manual</td>\n",
       "      <td>0</td>\n",
       "      <td>golf</td>\n",
       "      <td>150000</td>\n",
       "      <td>0</td>\n",
       "      <td>gasoline</td>\n",
       "      <td>volkswagen</td>\n",
       "      <td>NaN</td>\n",
       "      <td>2016-03-24 00:00:00</td>\n",
       "      <td>0</td>\n",
       "      <td>70435</td>\n",
       "      <td>2016-04-07 03:16:57</td>\n",
       "    </tr>\n",
       "    <tr>\n",
       "      <td>1</td>\n",
       "      <td>2016-03-24 10:58:45</td>\n",
       "      <td>A5_Sportback_2.7_Tdi</td>\n",
       "      <td>private</td>\n",
       "      <td>Offer</td>\n",
       "      <td>18300</td>\n",
       "      <td>test</td>\n",
       "      <td>NaN</td>\n",
       "      <td>2011</td>\n",
       "      <td>manual</td>\n",
       "      <td>190</td>\n",
       "      <td>NaN</td>\n",
       "      <td>125000</td>\n",
       "      <td>5</td>\n",
       "      <td>NaN</td>\n",
       "      <td>audi</td>\n",
       "      <td>yes</td>\n",
       "      <td>2016-03-24 00:00:00</td>\n",
       "      <td>0</td>\n",
       "      <td>66954</td>\n",
       "      <td>2016-04-07 01:46:50</td>\n",
       "    </tr>\n",
       "    <tr>\n",
       "      <td>2</td>\n",
       "      <td>2016-03-14 12:52:21</td>\n",
       "      <td>Jeep_Grand_Cherokee_\"Overland\"</td>\n",
       "      <td>private</td>\n",
       "      <td>Offer</td>\n",
       "      <td>9800</td>\n",
       "      <td>test</td>\n",
       "      <td>NaN</td>\n",
       "      <td>2004</td>\n",
       "      <td>automatic</td>\n",
       "      <td>163</td>\n",
       "      <td>grand</td>\n",
       "      <td>125000</td>\n",
       "      <td>8</td>\n",
       "      <td>NaN</td>\n",
       "      <td>jeep</td>\n",
       "      <td>NaN</td>\n",
       "      <td>2016-03-14 00:00:00</td>\n",
       "      <td>0</td>\n",
       "      <td>90480</td>\n",
       "      <td>2016-04-05 12:47:46</td>\n",
       "    </tr>\n",
       "    <tr>\n",
       "      <td>3</td>\n",
       "      <td>2016-03-17 16:54:04</td>\n",
       "      <td>GOLF_4_1_4__3TÜRER</td>\n",
       "      <td>private</td>\n",
       "      <td>Offer</td>\n",
       "      <td>1500</td>\n",
       "      <td>test</td>\n",
       "      <td>small car</td>\n",
       "      <td>2001</td>\n",
       "      <td>manual</td>\n",
       "      <td>75</td>\n",
       "      <td>golf</td>\n",
       "      <td>150000</td>\n",
       "      <td>6</td>\n",
       "      <td>gasoline</td>\n",
       "      <td>volkswagen</td>\n",
       "      <td>no</td>\n",
       "      <td>2016-03-17 00:00:00</td>\n",
       "      <td>0</td>\n",
       "      <td>91074</td>\n",
       "      <td>2016-03-17 17:40:17</td>\n",
       "    </tr>\n",
       "    <tr>\n",
       "      <td>4</td>\n",
       "      <td>2016-03-31 17:25:20</td>\n",
       "      <td>Skoda_Fabia_1.4_TDI_PD_Classic</td>\n",
       "      <td>private</td>\n",
       "      <td>Offer</td>\n",
       "      <td>3600</td>\n",
       "      <td>test</td>\n",
       "      <td>small car</td>\n",
       "      <td>2008</td>\n",
       "      <td>manual</td>\n",
       "      <td>69</td>\n",
       "      <td>fabia</td>\n",
       "      <td>90000</td>\n",
       "      <td>7</td>\n",
       "      <td>NaN</td>\n",
       "      <td>skoda</td>\n",
       "      <td>no</td>\n",
       "      <td>2016-03-31 00:00:00</td>\n",
       "      <td>0</td>\n",
       "      <td>60437</td>\n",
       "      <td>2016-04-06 10:17:21</td>\n",
       "    </tr>\n",
       "  </tbody>\n",
       "</table>\n",
       "</div>"
      ],
      "text/plain": [
       "          crawled_date                            name   seller offer_type  \\\n",
       "0  2016-03-24 11:52:17                      Golf_3_1.6  private      Offer   \n",
       "1  2016-03-24 10:58:45            A5_Sportback_2.7_Tdi  private      Offer   \n",
       "2  2016-03-14 12:52:21  Jeep_Grand_Cherokee_\"Overland\"  private      Offer   \n",
       "3  2016-03-17 16:54:04              GOLF_4_1_4__3TÜRER  private      Offer   \n",
       "4  2016-03-31 17:25:20  Skoda_Fabia_1.4_TDI_PD_Classic  private      Offer   \n",
       "\n",
       "   price abtest vehicle_type  registration_year    gearbox  power_ps  model  \\\n",
       "0    480   test          NaN               1993     manual         0   golf   \n",
       "1  18300   test          NaN               2011     manual       190    NaN   \n",
       "2   9800   test          NaN               2004  automatic       163  grand   \n",
       "3   1500   test    small car               2001     manual        75   golf   \n",
       "4   3600   test    small car               2008     manual        69  fabia   \n",
       "\n",
       "   kilometer  registration_month fuel_type       brand unrepaired_damage  \\\n",
       "0     150000                   0  gasoline  volkswagen               NaN   \n",
       "1     125000                   5       NaN        audi               yes   \n",
       "2     125000                   8       NaN        jeep               NaN   \n",
       "3     150000                   6  gasoline  volkswagen                no   \n",
       "4      90000                   7       NaN       skoda                no   \n",
       "\n",
       "            ad_created  nr_of_pictures  postal_code            last_seen  \n",
       "0  2016-03-24 00:00:00               0        70435  2016-04-07 03:16:57  \n",
       "1  2016-03-24 00:00:00               0        66954  2016-04-07 01:46:50  \n",
       "2  2016-03-14 00:00:00               0        90480  2016-04-05 12:47:46  \n",
       "3  2016-03-17 00:00:00               0        91074  2016-03-17 17:40:17  \n",
       "4  2016-03-31 00:00:00               0        60437  2016-04-06 10:17:21  "
      ]
     },
     "execution_count": 21,
     "metadata": {},
     "output_type": "execute_result"
    }
   ],
   "source": [
    "autos.head()"
   ]
  },
  {
   "cell_type": "markdown",
   "metadata": {},
   "source": [
    "Columns are renamed in a way that all of them are in SnakeCase. They are all more descriptive than their original names."
   ]
  },
  {
   "cell_type": "markdown",
   "metadata": {},
   "source": [
    "### Further Exploration\n",
    "\n",
    "The columns will be analyzed to check if there exist values that look unrealistically high or low namely the outliers. The outlier rows shall be removed from the dataset."
   ]
  },
  {
   "cell_type": "code",
   "execution_count": 22,
   "metadata": {
    "scrolled": true
   },
   "outputs": [
    {
     "data": {
      "text/html": [
       "<div>\n",
       "<style scoped>\n",
       "    .dataframe tbody tr th:only-of-type {\n",
       "        vertical-align: middle;\n",
       "    }\n",
       "\n",
       "    .dataframe tbody tr th {\n",
       "        vertical-align: top;\n",
       "    }\n",
       "\n",
       "    .dataframe thead th {\n",
       "        text-align: right;\n",
       "    }\n",
       "</style>\n",
       "<table border=\"1\" class=\"dataframe\">\n",
       "  <thead>\n",
       "    <tr style=\"text-align: right;\">\n",
       "      <th></th>\n",
       "      <th>crawled_date</th>\n",
       "      <th>name</th>\n",
       "      <th>seller</th>\n",
       "      <th>offer_type</th>\n",
       "      <th>price</th>\n",
       "      <th>abtest</th>\n",
       "      <th>vehicle_type</th>\n",
       "      <th>registration_year</th>\n",
       "      <th>gearbox</th>\n",
       "      <th>power_ps</th>\n",
       "      <th>model</th>\n",
       "      <th>kilometer</th>\n",
       "      <th>registration_month</th>\n",
       "      <th>fuel_type</th>\n",
       "      <th>brand</th>\n",
       "      <th>unrepaired_damage</th>\n",
       "      <th>ad_created</th>\n",
       "      <th>nr_of_pictures</th>\n",
       "      <th>postal_code</th>\n",
       "      <th>last_seen</th>\n",
       "    </tr>\n",
       "  </thead>\n",
       "  <tbody>\n",
       "    <tr>\n",
       "      <td>count</td>\n",
       "      <td>371528</td>\n",
       "      <td>371528</td>\n",
       "      <td>371528</td>\n",
       "      <td>371528</td>\n",
       "      <td>3.715280e+05</td>\n",
       "      <td>371528</td>\n",
       "      <td>150944</td>\n",
       "      <td>371528.000000</td>\n",
       "      <td>351319</td>\n",
       "      <td>371528.000000</td>\n",
       "      <td>351044</td>\n",
       "      <td>371528.000000</td>\n",
       "      <td>371528.000000</td>\n",
       "      <td>224169</td>\n",
       "      <td>371528</td>\n",
       "      <td>299468</td>\n",
       "      <td>371528</td>\n",
       "      <td>371528.0</td>\n",
       "      <td>371528.00000</td>\n",
       "      <td>371528</td>\n",
       "    </tr>\n",
       "    <tr>\n",
       "      <td>unique</td>\n",
       "      <td>280500</td>\n",
       "      <td>233531</td>\n",
       "      <td>2</td>\n",
       "      <td>2</td>\n",
       "      <td>NaN</td>\n",
       "      <td>2</td>\n",
       "      <td>3</td>\n",
       "      <td>NaN</td>\n",
       "      <td>2</td>\n",
       "      <td>NaN</td>\n",
       "      <td>251</td>\n",
       "      <td>NaN</td>\n",
       "      <td>NaN</td>\n",
       "      <td>3</td>\n",
       "      <td>40</td>\n",
       "      <td>2</td>\n",
       "      <td>114</td>\n",
       "      <td>NaN</td>\n",
       "      <td>NaN</td>\n",
       "      <td>182806</td>\n",
       "    </tr>\n",
       "    <tr>\n",
       "      <td>top</td>\n",
       "      <td>2016-03-24 14:49:47</td>\n",
       "      <td>Ford_Fiesta</td>\n",
       "      <td>private</td>\n",
       "      <td>Offer</td>\n",
       "      <td>NaN</td>\n",
       "      <td>test</td>\n",
       "      <td>small car</td>\n",
       "      <td>NaN</td>\n",
       "      <td>manual</td>\n",
       "      <td>NaN</td>\n",
       "      <td>golf</td>\n",
       "      <td>NaN</td>\n",
       "      <td>NaN</td>\n",
       "      <td>gasoline</td>\n",
       "      <td>volkswagen</td>\n",
       "      <td>no</td>\n",
       "      <td>2016-04-03 00:00:00</td>\n",
       "      <td>NaN</td>\n",
       "      <td>NaN</td>\n",
       "      <td>2016-04-06 13:45:54</td>\n",
       "    </tr>\n",
       "    <tr>\n",
       "      <td>freq</td>\n",
       "      <td>7</td>\n",
       "      <td>657</td>\n",
       "      <td>371525</td>\n",
       "      <td>371516</td>\n",
       "      <td>NaN</td>\n",
       "      <td>192585</td>\n",
       "      <td>80023</td>\n",
       "      <td>NaN</td>\n",
       "      <td>274214</td>\n",
       "      <td>NaN</td>\n",
       "      <td>30070</td>\n",
       "      <td>NaN</td>\n",
       "      <td>NaN</td>\n",
       "      <td>223857</td>\n",
       "      <td>79640</td>\n",
       "      <td>263182</td>\n",
       "      <td>14450</td>\n",
       "      <td>NaN</td>\n",
       "      <td>NaN</td>\n",
       "      <td>17</td>\n",
       "    </tr>\n",
       "    <tr>\n",
       "      <td>mean</td>\n",
       "      <td>NaN</td>\n",
       "      <td>NaN</td>\n",
       "      <td>NaN</td>\n",
       "      <td>NaN</td>\n",
       "      <td>1.729514e+04</td>\n",
       "      <td>NaN</td>\n",
       "      <td>NaN</td>\n",
       "      <td>2004.577997</td>\n",
       "      <td>NaN</td>\n",
       "      <td>115.549477</td>\n",
       "      <td>NaN</td>\n",
       "      <td>125618.688228</td>\n",
       "      <td>5.734445</td>\n",
       "      <td>NaN</td>\n",
       "      <td>NaN</td>\n",
       "      <td>NaN</td>\n",
       "      <td>NaN</td>\n",
       "      <td>0.0</td>\n",
       "      <td>50820.66764</td>\n",
       "      <td>NaN</td>\n",
       "    </tr>\n",
       "    <tr>\n",
       "      <td>std</td>\n",
       "      <td>NaN</td>\n",
       "      <td>NaN</td>\n",
       "      <td>NaN</td>\n",
       "      <td>NaN</td>\n",
       "      <td>3.587954e+06</td>\n",
       "      <td>NaN</td>\n",
       "      <td>NaN</td>\n",
       "      <td>92.866598</td>\n",
       "      <td>NaN</td>\n",
       "      <td>192.139578</td>\n",
       "      <td>NaN</td>\n",
       "      <td>40112.337051</td>\n",
       "      <td>3.712412</td>\n",
       "      <td>NaN</td>\n",
       "      <td>NaN</td>\n",
       "      <td>NaN</td>\n",
       "      <td>NaN</td>\n",
       "      <td>0.0</td>\n",
       "      <td>25799.08247</td>\n",
       "      <td>NaN</td>\n",
       "    </tr>\n",
       "    <tr>\n",
       "      <td>min</td>\n",
       "      <td>NaN</td>\n",
       "      <td>NaN</td>\n",
       "      <td>NaN</td>\n",
       "      <td>NaN</td>\n",
       "      <td>0.000000e+00</td>\n",
       "      <td>NaN</td>\n",
       "      <td>NaN</td>\n",
       "      <td>1000.000000</td>\n",
       "      <td>NaN</td>\n",
       "      <td>0.000000</td>\n",
       "      <td>NaN</td>\n",
       "      <td>5000.000000</td>\n",
       "      <td>0.000000</td>\n",
       "      <td>NaN</td>\n",
       "      <td>NaN</td>\n",
       "      <td>NaN</td>\n",
       "      <td>NaN</td>\n",
       "      <td>0.0</td>\n",
       "      <td>1067.00000</td>\n",
       "      <td>NaN</td>\n",
       "    </tr>\n",
       "    <tr>\n",
       "      <td>25%</td>\n",
       "      <td>NaN</td>\n",
       "      <td>NaN</td>\n",
       "      <td>NaN</td>\n",
       "      <td>NaN</td>\n",
       "      <td>1.150000e+03</td>\n",
       "      <td>NaN</td>\n",
       "      <td>NaN</td>\n",
       "      <td>1999.000000</td>\n",
       "      <td>NaN</td>\n",
       "      <td>70.000000</td>\n",
       "      <td>NaN</td>\n",
       "      <td>125000.000000</td>\n",
       "      <td>3.000000</td>\n",
       "      <td>NaN</td>\n",
       "      <td>NaN</td>\n",
       "      <td>NaN</td>\n",
       "      <td>NaN</td>\n",
       "      <td>0.0</td>\n",
       "      <td>30459.00000</td>\n",
       "      <td>NaN</td>\n",
       "    </tr>\n",
       "    <tr>\n",
       "      <td>50%</td>\n",
       "      <td>NaN</td>\n",
       "      <td>NaN</td>\n",
       "      <td>NaN</td>\n",
       "      <td>NaN</td>\n",
       "      <td>2.950000e+03</td>\n",
       "      <td>NaN</td>\n",
       "      <td>NaN</td>\n",
       "      <td>2003.000000</td>\n",
       "      <td>NaN</td>\n",
       "      <td>105.000000</td>\n",
       "      <td>NaN</td>\n",
       "      <td>150000.000000</td>\n",
       "      <td>6.000000</td>\n",
       "      <td>NaN</td>\n",
       "      <td>NaN</td>\n",
       "      <td>NaN</td>\n",
       "      <td>NaN</td>\n",
       "      <td>0.0</td>\n",
       "      <td>49610.00000</td>\n",
       "      <td>NaN</td>\n",
       "    </tr>\n",
       "    <tr>\n",
       "      <td>75%</td>\n",
       "      <td>NaN</td>\n",
       "      <td>NaN</td>\n",
       "      <td>NaN</td>\n",
       "      <td>NaN</td>\n",
       "      <td>7.200000e+03</td>\n",
       "      <td>NaN</td>\n",
       "      <td>NaN</td>\n",
       "      <td>2008.000000</td>\n",
       "      <td>NaN</td>\n",
       "      <td>150.000000</td>\n",
       "      <td>NaN</td>\n",
       "      <td>150000.000000</td>\n",
       "      <td>9.000000</td>\n",
       "      <td>NaN</td>\n",
       "      <td>NaN</td>\n",
       "      <td>NaN</td>\n",
       "      <td>NaN</td>\n",
       "      <td>0.0</td>\n",
       "      <td>71546.00000</td>\n",
       "      <td>NaN</td>\n",
       "    </tr>\n",
       "    <tr>\n",
       "      <td>max</td>\n",
       "      <td>NaN</td>\n",
       "      <td>NaN</td>\n",
       "      <td>NaN</td>\n",
       "      <td>NaN</td>\n",
       "      <td>2.147484e+09</td>\n",
       "      <td>NaN</td>\n",
       "      <td>NaN</td>\n",
       "      <td>9999.000000</td>\n",
       "      <td>NaN</td>\n",
       "      <td>20000.000000</td>\n",
       "      <td>NaN</td>\n",
       "      <td>150000.000000</td>\n",
       "      <td>12.000000</td>\n",
       "      <td>NaN</td>\n",
       "      <td>NaN</td>\n",
       "      <td>NaN</td>\n",
       "      <td>NaN</td>\n",
       "      <td>0.0</td>\n",
       "      <td>99998.00000</td>\n",
       "      <td>NaN</td>\n",
       "    </tr>\n",
       "  </tbody>\n",
       "</table>\n",
       "</div>"
      ],
      "text/plain": [
       "               crawled_date         name   seller offer_type         price  \\\n",
       "count                371528       371528   371528     371528  3.715280e+05   \n",
       "unique               280500       233531        2          2           NaN   \n",
       "top     2016-03-24 14:49:47  Ford_Fiesta  private      Offer           NaN   \n",
       "freq                      7          657   371525     371516           NaN   \n",
       "mean                    NaN          NaN      NaN        NaN  1.729514e+04   \n",
       "std                     NaN          NaN      NaN        NaN  3.587954e+06   \n",
       "min                     NaN          NaN      NaN        NaN  0.000000e+00   \n",
       "25%                     NaN          NaN      NaN        NaN  1.150000e+03   \n",
       "50%                     NaN          NaN      NaN        NaN  2.950000e+03   \n",
       "75%                     NaN          NaN      NaN        NaN  7.200000e+03   \n",
       "max                     NaN          NaN      NaN        NaN  2.147484e+09   \n",
       "\n",
       "        abtest vehicle_type  registration_year gearbox       power_ps   model  \\\n",
       "count   371528       150944      371528.000000  351319  371528.000000  351044   \n",
       "unique       2            3                NaN       2            NaN     251   \n",
       "top       test    small car                NaN  manual            NaN    golf   \n",
       "freq    192585        80023                NaN  274214            NaN   30070   \n",
       "mean       NaN          NaN        2004.577997     NaN     115.549477     NaN   \n",
       "std        NaN          NaN          92.866598     NaN     192.139578     NaN   \n",
       "min        NaN          NaN        1000.000000     NaN       0.000000     NaN   \n",
       "25%        NaN          NaN        1999.000000     NaN      70.000000     NaN   \n",
       "50%        NaN          NaN        2003.000000     NaN     105.000000     NaN   \n",
       "75%        NaN          NaN        2008.000000     NaN     150.000000     NaN   \n",
       "max        NaN          NaN        9999.000000     NaN   20000.000000     NaN   \n",
       "\n",
       "            kilometer  registration_month fuel_type       brand  \\\n",
       "count   371528.000000       371528.000000    224169      371528   \n",
       "unique            NaN                 NaN         3          40   \n",
       "top               NaN                 NaN  gasoline  volkswagen   \n",
       "freq              NaN                 NaN    223857       79640   \n",
       "mean    125618.688228            5.734445       NaN         NaN   \n",
       "std      40112.337051            3.712412       NaN         NaN   \n",
       "min       5000.000000            0.000000       NaN         NaN   \n",
       "25%     125000.000000            3.000000       NaN         NaN   \n",
       "50%     150000.000000            6.000000       NaN         NaN   \n",
       "75%     150000.000000            9.000000       NaN         NaN   \n",
       "max     150000.000000           12.000000       NaN         NaN   \n",
       "\n",
       "       unrepaired_damage           ad_created  nr_of_pictures   postal_code  \\\n",
       "count             299468               371528        371528.0  371528.00000   \n",
       "unique                 2                  114             NaN           NaN   \n",
       "top                   no  2016-04-03 00:00:00             NaN           NaN   \n",
       "freq              263182                14450             NaN           NaN   \n",
       "mean                 NaN                  NaN             0.0   50820.66764   \n",
       "std                  NaN                  NaN             0.0   25799.08247   \n",
       "min                  NaN                  NaN             0.0    1067.00000   \n",
       "25%                  NaN                  NaN             0.0   30459.00000   \n",
       "50%                  NaN                  NaN             0.0   49610.00000   \n",
       "75%                  NaN                  NaN             0.0   71546.00000   \n",
       "max                  NaN                  NaN             0.0   99998.00000   \n",
       "\n",
       "                  last_seen  \n",
       "count                371528  \n",
       "unique               182806  \n",
       "top     2016-04-06 13:45:54  \n",
       "freq                     17  \n",
       "mean                    NaN  \n",
       "std                     NaN  \n",
       "min                     NaN  \n",
       "25%                     NaN  \n",
       "50%                     NaN  \n",
       "75%                     NaN  \n",
       "max                     NaN  "
      ]
     },
     "execution_count": 22,
     "metadata": {},
     "output_type": "execute_result"
    }
   ],
   "source": [
    "autos.describe(include='all')"
   ]
  },
  {
   "cell_type": "code",
   "execution_count": 23,
   "metadata": {},
   "outputs": [
    {
     "data": {
      "text/plain": [
       "private       371525\n",
       "commercial         3\n",
       "Name: seller, dtype: int64"
      ]
     },
     "execution_count": 23,
     "metadata": {},
     "output_type": "execute_result"
    }
   ],
   "source": [
    "autos['seller'].value_counts()"
   ]
  },
  {
   "cell_type": "code",
   "execution_count": 24,
   "metadata": {},
   "outputs": [
    {
     "data": {
      "text/plain": [
       "Offer      371516\n",
       "Request        12\n",
       "Name: offer_type, dtype: int64"
      ]
     },
     "execution_count": 24,
     "metadata": {},
     "output_type": "execute_result"
    }
   ],
   "source": [
    "autos['offer_type'].value_counts()"
   ]
  },
  {
   "cell_type": "markdown",
   "metadata": {},
   "source": [
    "After having a look at the describe results, any columns that have mostly one value are the candidates to be dropped. **seller** and **offer_type** columns contain 2 different values but one value is extremely dominant compared to the other.\n",
    "\n",
    "It is also wise to check other numerical columns such as **price** and **kilometer** to detect unrealistic values.\n",
    "\n",
    "### Price Column Cleaning"
   ]
  },
  {
   "cell_type": "code",
   "execution_count": 25,
   "metadata": {},
   "outputs": [
    {
     "data": {
      "text/plain": [
       "count    3.715280e+05\n",
       "mean     1.729514e+04\n",
       "std      3.587954e+06\n",
       "min      0.000000e+00\n",
       "25%      1.150000e+03\n",
       "50%      2.950000e+03\n",
       "75%      7.200000e+03\n",
       "max      2.147484e+09\n",
       "Name: price, dtype: float64"
      ]
     },
     "execution_count": 25,
     "metadata": {},
     "output_type": "execute_result"
    }
   ],
   "source": [
    "autos['price'].describe()"
   ]
  },
  {
   "cell_type": "markdown",
   "metadata": {},
   "source": [
    "Results show that minimum value for price column is '0' which is not a realistic price for a car. Also the maximum price for a car does not seem so realistic either. For further exploration of this matter let's check the minimum and maximum price values."
   ]
  },
  {
   "cell_type": "code",
   "execution_count": 26,
   "metadata": {},
   "outputs": [
    {
     "data": {
      "text/plain": [
       "2147483647     1\n",
       "99999999      15\n",
       "99000000       1\n",
       "74185296       1\n",
       "32545461       1\n",
       "27322222       1\n",
       "14000500       1\n",
       "12345678       9\n",
       "11111111      10\n",
       "10010011       1\n",
       "10000000       8\n",
       "9999999        3\n",
       "3895000        1\n",
       "3890000        1\n",
       "2995000        1\n",
       "2795000        1\n",
       "1600000        2\n",
       "1300000        1\n",
       "1250000        2\n",
       "1234566        1\n",
       "Name: price, dtype: int64"
      ]
     },
     "execution_count": 26,
     "metadata": {},
     "output_type": "execute_result"
    }
   ],
   "source": [
    "autos['price'].value_counts().sort_index(ascending=False).head(20)"
   ]
  },
  {
   "cell_type": "markdown",
   "metadata": {},
   "source": [
    "Maximum value for price column does not seem realistic at all. There exists some other made up values such as '99999999' etc. I will remove those made up values and outliers from the dataset. I think it would make sense to set the upper boundary to the value of 3895000 since a car could be that expensive and it would make perfect sense.      "
   ]
  },
  {
   "cell_type": "code",
   "execution_count": 27,
   "metadata": {
    "scrolled": true
   },
   "outputs": [
    {
     "data": {
      "text/plain": [
       "0     10778\n",
       "1      1189\n",
       "2        12\n",
       "3         8\n",
       "4         1\n",
       "5        26\n",
       "7         3\n",
       "8         9\n",
       "9         8\n",
       "10       84\n",
       "11        5\n",
       "12        8\n",
       "13        7\n",
       "14        5\n",
       "15       27\n",
       "16        2\n",
       "17        5\n",
       "18        3\n",
       "19        3\n",
       "20       51\n",
       "21        1\n",
       "24        1\n",
       "25       33\n",
       "26        1\n",
       "27        1\n",
       "29        2\n",
       "30       55\n",
       "32        1\n",
       "33        1\n",
       "35       18\n",
       "Name: price, dtype: int64"
      ]
     },
     "execution_count": 27,
     "metadata": {},
     "output_type": "execute_result"
    }
   ],
   "source": [
    "autos['price'].value_counts().sort_index(ascending=True).head(30)"
   ]
  },
  {
   "cell_type": "markdown",
   "metadata": {},
   "source": [
    "There exist 10778 cars with a price tag of 0 euros which is not realistic at all either. There exist some other values that do not make perfect sense and they will also be removed however I will set the lower boundary to 50 euros for the price of a car."
   ]
  },
  {
   "cell_type": "code",
   "execution_count": 28,
   "metadata": {},
   "outputs": [],
   "source": [
    "autos = autos[autos['price'].between(50,3895000)]"
   ]
  },
  {
   "cell_type": "code",
   "execution_count": 29,
   "metadata": {
    "scrolled": true
   },
   "outputs": [
    {
     "data": {
      "text/plain": [
       "(359047, 20)"
      ]
     },
     "execution_count": 29,
     "metadata": {},
     "output_type": "execute_result"
    }
   ],
   "source": [
    "autos.shape"
   ]
  },
  {
   "cell_type": "markdown",
   "metadata": {},
   "source": [
    "There was a total of 371528 cars in the dataset before the operations I made. It can be seen from the above result that now there exist 359047 cars remaining in the dataset. We can explore more about the remaining values for **price** column."
   ]
  },
  {
   "cell_type": "code",
   "execution_count": 30,
   "metadata": {},
   "outputs": [
    {
     "data": {
      "text/plain": [
       "count    3.590470e+05\n",
       "mean     6.096274e+03\n",
       "std      1.822452e+04\n",
       "min      5.000000e+01\n",
       "25%      1.250000e+03\n",
       "50%      3.099000e+03\n",
       "75%      7.499000e+03\n",
       "max      3.895000e+06\n",
       "Name: price, dtype: float64"
      ]
     },
     "execution_count": 30,
     "metadata": {},
     "output_type": "execute_result"
    }
   ],
   "source": [
    "autos['price'].describe()"
   ]
  },
  {
   "cell_type": "markdown",
   "metadata": {},
   "source": [
    "### Kilometer Column Cleaning\n",
    "\n",
    "I set the boundaries for the **price** column and cleaned it. Now it is time to clean **kilometer** column as well. Let's begin with exploring the column."
   ]
  },
  {
   "cell_type": "code",
   "execution_count": 31,
   "metadata": {},
   "outputs": [
    {
     "data": {
      "text/plain": [
       "count    359047.000000\n",
       "mean     125763.925057\n",
       "std       39672.043220\n",
       "min        5000.000000\n",
       "25%      125000.000000\n",
       "50%      150000.000000\n",
       "75%      150000.000000\n",
       "max      150000.000000\n",
       "Name: kilometer, dtype: float64"
      ]
     },
     "execution_count": 31,
     "metadata": {},
     "output_type": "execute_result"
    }
   ],
   "source": [
    "autos['kilometer'].describe()"
   ]
  },
  {
   "cell_type": "code",
   "execution_count": 32,
   "metadata": {},
   "outputs": [
    {
     "data": {
      "text/plain": [
       "150000    232119\n",
       "125000     37293\n",
       "100000     15404\n",
       "90000      12334\n",
       "80000      10883\n",
       "70000       9657\n",
       "60000       8584\n",
       "50000       7528\n",
       "40000       6314\n",
       "30000       5925\n",
       "20000       5507\n",
       "10000       1842\n",
       "5000        5657\n",
       "Name: kilometer, dtype: int64"
      ]
     },
     "execution_count": 32,
     "metadata": {},
     "output_type": "execute_result"
    }
   ],
   "source": [
    "autos['kilometer'].value_counts().sort_index(ascending=False).head(20)"
   ]
  },
  {
   "cell_type": "markdown",
   "metadata": {},
   "source": [
    "The maximum value for kilometer column is 150,000 which is perfectly fine for a car to have that value. Thus I will not remove high values for this column. However it is wise to check for the lower limit as well."
   ]
  },
  {
   "cell_type": "code",
   "execution_count": 33,
   "metadata": {},
   "outputs": [
    {
     "data": {
      "text/plain": [
       "5000        5657\n",
       "10000       1842\n",
       "20000       5507\n",
       "30000       5925\n",
       "40000       6314\n",
       "50000       7528\n",
       "60000       8584\n",
       "70000       9657\n",
       "80000      10883\n",
       "90000      12334\n",
       "100000     15404\n",
       "125000     37293\n",
       "150000    232119\n",
       "Name: kilometer, dtype: int64"
      ]
     },
     "execution_count": 33,
     "metadata": {},
     "output_type": "execute_result"
    }
   ],
   "source": [
    "autos['kilometer'].value_counts().sort_index(ascending=True).head(20)"
   ]
  },
  {
   "cell_type": "markdown",
   "metadata": {},
   "source": [
    "Again I do not need to remove any rows with a made up value because it seems that the values are perfectly fine and already cleaned."
   ]
  },
  {
   "cell_type": "markdown",
   "metadata": {},
   "source": [
    "### Handling of Date Type Columns"
   ]
  },
  {
   "cell_type": "markdown",
   "metadata": {},
   "source": [
    "Let's now move o to the date columns and understand the date range the data covers.\n",
    "\n",
    "There are 5 columns that should represent date values. Some of these columns were created by the crawler, some came from the website itself. We can differentiate by referring to the data dictionary:\n",
    "\n",
    "- `crawled_date`: added by the crawler\n",
    "- `last_seen`: added by the crawler\n",
    "- `ad_created`: from the website\n",
    "- `registration_month`: from the website\n",
    "- `registration_year`: from the website\n"
   ]
  },
  {
   "cell_type": "markdown",
   "metadata": {},
   "source": [
    "Right now, the **date_crawled**, **last_seen**, and **ad_created** columns are all identified as string values by pandas. Because these three columns are represented as strings, we need to convert the data into a numerical representation so we can understand it quantitatively. The other two columns are represented as numeric values, so we can use methods like Series.describe() to understand the distribution without any extra data processing."
   ]
  },
  {
   "cell_type": "code",
   "execution_count": 34,
   "metadata": {
    "scrolled": true
   },
   "outputs": [
    {
     "data": {
      "text/plain": [
       "2016-03-05    0.025554\n",
       "2016-03-06    0.014461\n",
       "2016-03-07    0.035636\n",
       "2016-03-08    0.033461\n",
       "2016-03-09    0.034143\n",
       "2016-03-10    0.032642\n",
       "2016-03-11    0.032759\n",
       "2016-03-12    0.036299\n",
       "2016-03-13    0.015786\n",
       "2016-03-14    0.036346\n",
       "2016-03-15    0.033433\n",
       "2016-03-16    0.030194\n",
       "2016-03-17    0.031656\n",
       "2016-03-18    0.013107\n",
       "2016-03-19    0.035252\n",
       "2016-03-20    0.036366\n",
       "2016-03-21    0.035672\n",
       "2016-03-22    0.032464\n",
       "2016-03-23    0.031990\n",
       "2016-03-24    0.029899\n",
       "2016-03-25    0.032756\n",
       "2016-03-26    0.031979\n",
       "2016-03-27    0.030199\n",
       "2016-03-28    0.035051\n",
       "2016-03-29    0.034124\n",
       "2016-03-30    0.033564\n",
       "2016-03-31    0.031876\n",
       "2016-04-01    0.034179\n",
       "2016-04-02    0.035129\n",
       "2016-04-03    0.038861\n",
       "2016-04-04    0.037669\n",
       "2016-04-05    0.012762\n",
       "2016-04-06    0.003125\n",
       "2016-04-07    0.001607\n",
       "Name: crawled_date, dtype: float64"
      ]
     },
     "execution_count": 34,
     "metadata": {},
     "output_type": "execute_result"
    }
   ],
   "source": [
    "autos['crawled_date'].str[:10].value_counts(normalize=True, dropna=False).sort_index(ascending=True)"
   ]
  },
  {
   "cell_type": "markdown",
   "metadata": {},
   "source": [
    "As it can be seen from the result, crawl dates range from 2016-03-05 up to 2016-04-07. Now let's check **last_seen** column."
   ]
  },
  {
   "cell_type": "code",
   "execution_count": 35,
   "metadata": {
    "scrolled": true
   },
   "outputs": [
    {
     "data": {
      "text/plain": [
       "2016-03-05    0.001267\n",
       "2016-03-06    0.004100\n",
       "2016-03-07    0.005192\n",
       "2016-03-08    0.007924\n",
       "2016-03-09    0.009823\n",
       "2016-03-10    0.011458\n",
       "2016-03-11    0.012954\n",
       "2016-03-12    0.023242\n",
       "2016-03-13    0.008414\n",
       "2016-03-14    0.012174\n",
       "2016-03-15    0.016324\n",
       "2016-03-16    0.016435\n",
       "2016-03-17    0.028729\n",
       "2016-03-18    0.006893\n",
       "2016-03-19    0.016349\n",
       "2016-03-20    0.019875\n",
       "2016-03-21    0.020050\n",
       "2016-03-22    0.020538\n",
       "2016-03-23    0.018042\n",
       "2016-03-24    0.019176\n",
       "2016-03-25    0.018981\n",
       "2016-03-26    0.015951\n",
       "2016-03-27    0.016680\n",
       "2016-03-28    0.022198\n",
       "2016-03-29    0.023289\n",
       "2016-03-30    0.023718\n",
       "2016-03-31    0.024264\n",
       "2016-04-01    0.023950\n",
       "2016-04-02    0.024986\n",
       "2016-04-03    0.025356\n",
       "2016-04-04    0.025540\n",
       "2016-04-05    0.126903\n",
       "2016-04-06    0.218843\n",
       "2016-04-07    0.130384\n",
       "Name: last_seen, dtype: float64"
      ]
     },
     "execution_count": 35,
     "metadata": {},
     "output_type": "execute_result"
    }
   ],
   "source": [
    "autos['last_seen'].str[:10].value_counts(normalize=True, dropna=False).sort_index(ascending=True)"
   ]
  },
  {
   "cell_type": "markdown",
   "metadata": {},
   "source": [
    "As it can be seen from the result, last seen dates range from 2016-03-05 up to 2016-04-07 which are the same as crawl dates. Now let's check **ad_created** column."
   ]
  },
  {
   "cell_type": "code",
   "execution_count": 36,
   "metadata": {
    "scrolled": true
   },
   "outputs": [
    {
     "data": {
      "text/plain": [
       "2014-03-10    0.000003\n",
       "2015-03-20    0.000003\n",
       "2015-06-11    0.000003\n",
       "2015-06-18    0.000003\n",
       "2015-08-07    0.000003\n",
       "                ...   \n",
       "2016-04-03    0.039053\n",
       "2016-04-04    0.037775\n",
       "2016-04-05    0.011592\n",
       "2016-04-06    0.003117\n",
       "2016-04-07    0.001543\n",
       "Name: ad_created, Length: 114, dtype: float64"
      ]
     },
     "execution_count": 36,
     "metadata": {},
     "output_type": "execute_result"
    }
   ],
   "source": [
    "autos['ad_created'].str[:10].value_counts(normalize=True, dropna=False).sort_index(ascending=True)"
   ]
  },
  {
   "cell_type": "markdown",
   "metadata": {},
   "source": [
    "ad_created column is different from two other columns. It ranges from 2014-03-10 up to 2016-04-07. Ending dates are all similar for these three columns. \n",
    "\n",
    "\n",
    "### Convert Dates to Uniform Numeric Data\n",
    "\n",
    "We can convert dates to uniform numeric data for convenience and for further purposes. Let's convert them!"
   ]
  },
  {
   "cell_type": "code",
   "execution_count": 37,
   "metadata": {},
   "outputs": [
    {
     "data": {
      "text/html": [
       "<div>\n",
       "<style scoped>\n",
       "    .dataframe tbody tr th:only-of-type {\n",
       "        vertical-align: middle;\n",
       "    }\n",
       "\n",
       "    .dataframe tbody tr th {\n",
       "        vertical-align: top;\n",
       "    }\n",
       "\n",
       "    .dataframe thead th {\n",
       "        text-align: right;\n",
       "    }\n",
       "</style>\n",
       "<table border=\"1\" class=\"dataframe\">\n",
       "  <thead>\n",
       "    <tr style=\"text-align: right;\">\n",
       "      <th></th>\n",
       "      <th>crawled_date</th>\n",
       "      <th>name</th>\n",
       "      <th>seller</th>\n",
       "      <th>offer_type</th>\n",
       "      <th>price</th>\n",
       "      <th>abtest</th>\n",
       "      <th>vehicle_type</th>\n",
       "      <th>registration_year</th>\n",
       "      <th>gearbox</th>\n",
       "      <th>power_ps</th>\n",
       "      <th>model</th>\n",
       "      <th>kilometer</th>\n",
       "      <th>registration_month</th>\n",
       "      <th>fuel_type</th>\n",
       "      <th>brand</th>\n",
       "      <th>unrepaired_damage</th>\n",
       "      <th>ad_created</th>\n",
       "      <th>nr_of_pictures</th>\n",
       "      <th>postal_code</th>\n",
       "      <th>last_seen</th>\n",
       "    </tr>\n",
       "  </thead>\n",
       "  <tbody>\n",
       "    <tr>\n",
       "      <td>0</td>\n",
       "      <td>20160324</td>\n",
       "      <td>Golf_3_1.6</td>\n",
       "      <td>private</td>\n",
       "      <td>Offer</td>\n",
       "      <td>480</td>\n",
       "      <td>test</td>\n",
       "      <td>NaN</td>\n",
       "      <td>1993</td>\n",
       "      <td>manual</td>\n",
       "      <td>0</td>\n",
       "      <td>golf</td>\n",
       "      <td>150000</td>\n",
       "      <td>0</td>\n",
       "      <td>gasoline</td>\n",
       "      <td>volkswagen</td>\n",
       "      <td>NaN</td>\n",
       "      <td>20160324</td>\n",
       "      <td>0</td>\n",
       "      <td>70435</td>\n",
       "      <td>20160407</td>\n",
       "    </tr>\n",
       "    <tr>\n",
       "      <td>1</td>\n",
       "      <td>20160324</td>\n",
       "      <td>A5_Sportback_2.7_Tdi</td>\n",
       "      <td>private</td>\n",
       "      <td>Offer</td>\n",
       "      <td>18300</td>\n",
       "      <td>test</td>\n",
       "      <td>NaN</td>\n",
       "      <td>2011</td>\n",
       "      <td>manual</td>\n",
       "      <td>190</td>\n",
       "      <td>NaN</td>\n",
       "      <td>125000</td>\n",
       "      <td>5</td>\n",
       "      <td>NaN</td>\n",
       "      <td>audi</td>\n",
       "      <td>yes</td>\n",
       "      <td>20160324</td>\n",
       "      <td>0</td>\n",
       "      <td>66954</td>\n",
       "      <td>20160407</td>\n",
       "    </tr>\n",
       "    <tr>\n",
       "      <td>2</td>\n",
       "      <td>20160314</td>\n",
       "      <td>Jeep_Grand_Cherokee_\"Overland\"</td>\n",
       "      <td>private</td>\n",
       "      <td>Offer</td>\n",
       "      <td>9800</td>\n",
       "      <td>test</td>\n",
       "      <td>NaN</td>\n",
       "      <td>2004</td>\n",
       "      <td>automatic</td>\n",
       "      <td>163</td>\n",
       "      <td>grand</td>\n",
       "      <td>125000</td>\n",
       "      <td>8</td>\n",
       "      <td>NaN</td>\n",
       "      <td>jeep</td>\n",
       "      <td>NaN</td>\n",
       "      <td>20160314</td>\n",
       "      <td>0</td>\n",
       "      <td>90480</td>\n",
       "      <td>20160405</td>\n",
       "    </tr>\n",
       "    <tr>\n",
       "      <td>3</td>\n",
       "      <td>20160317</td>\n",
       "      <td>GOLF_4_1_4__3TÜRER</td>\n",
       "      <td>private</td>\n",
       "      <td>Offer</td>\n",
       "      <td>1500</td>\n",
       "      <td>test</td>\n",
       "      <td>small car</td>\n",
       "      <td>2001</td>\n",
       "      <td>manual</td>\n",
       "      <td>75</td>\n",
       "      <td>golf</td>\n",
       "      <td>150000</td>\n",
       "      <td>6</td>\n",
       "      <td>gasoline</td>\n",
       "      <td>volkswagen</td>\n",
       "      <td>no</td>\n",
       "      <td>20160317</td>\n",
       "      <td>0</td>\n",
       "      <td>91074</td>\n",
       "      <td>20160317</td>\n",
       "    </tr>\n",
       "    <tr>\n",
       "      <td>4</td>\n",
       "      <td>20160331</td>\n",
       "      <td>Skoda_Fabia_1.4_TDI_PD_Classic</td>\n",
       "      <td>private</td>\n",
       "      <td>Offer</td>\n",
       "      <td>3600</td>\n",
       "      <td>test</td>\n",
       "      <td>small car</td>\n",
       "      <td>2008</td>\n",
       "      <td>manual</td>\n",
       "      <td>69</td>\n",
       "      <td>fabia</td>\n",
       "      <td>90000</td>\n",
       "      <td>7</td>\n",
       "      <td>NaN</td>\n",
       "      <td>skoda</td>\n",
       "      <td>no</td>\n",
       "      <td>20160331</td>\n",
       "      <td>0</td>\n",
       "      <td>60437</td>\n",
       "      <td>20160406</td>\n",
       "    </tr>\n",
       "    <tr>\n",
       "      <td>...</td>\n",
       "      <td>...</td>\n",
       "      <td>...</td>\n",
       "      <td>...</td>\n",
       "      <td>...</td>\n",
       "      <td>...</td>\n",
       "      <td>...</td>\n",
       "      <td>...</td>\n",
       "      <td>...</td>\n",
       "      <td>...</td>\n",
       "      <td>...</td>\n",
       "      <td>...</td>\n",
       "      <td>...</td>\n",
       "      <td>...</td>\n",
       "      <td>...</td>\n",
       "      <td>...</td>\n",
       "      <td>...</td>\n",
       "      <td>...</td>\n",
       "      <td>...</td>\n",
       "      <td>...</td>\n",
       "      <td>...</td>\n",
       "    </tr>\n",
       "    <tr>\n",
       "      <td>371523</td>\n",
       "      <td>20160314</td>\n",
       "      <td>Suche_t4___vito_ab_6_sitze</td>\n",
       "      <td>private</td>\n",
       "      <td>Offer</td>\n",
       "      <td>2200</td>\n",
       "      <td>test</td>\n",
       "      <td>NaN</td>\n",
       "      <td>2005</td>\n",
       "      <td>NaN</td>\n",
       "      <td>0</td>\n",
       "      <td>NaN</td>\n",
       "      <td>20000</td>\n",
       "      <td>1</td>\n",
       "      <td>NaN</td>\n",
       "      <td>sonstige_autos</td>\n",
       "      <td>NaN</td>\n",
       "      <td>20160314</td>\n",
       "      <td>0</td>\n",
       "      <td>39576</td>\n",
       "      <td>20160406</td>\n",
       "    </tr>\n",
       "    <tr>\n",
       "      <td>371524</td>\n",
       "      <td>20160305</td>\n",
       "      <td>Smart_smart_leistungssteigerung_100ps</td>\n",
       "      <td>private</td>\n",
       "      <td>Offer</td>\n",
       "      <td>1199</td>\n",
       "      <td>test</td>\n",
       "      <td>NaN</td>\n",
       "      <td>2000</td>\n",
       "      <td>automatic</td>\n",
       "      <td>101</td>\n",
       "      <td>fortwo</td>\n",
       "      <td>125000</td>\n",
       "      <td>3</td>\n",
       "      <td>gasoline</td>\n",
       "      <td>smart</td>\n",
       "      <td>no</td>\n",
       "      <td>20160305</td>\n",
       "      <td>0</td>\n",
       "      <td>26135</td>\n",
       "      <td>20160311</td>\n",
       "    </tr>\n",
       "    <tr>\n",
       "      <td>371525</td>\n",
       "      <td>20160319</td>\n",
       "      <td>Volkswagen_Multivan_T4_TDI_7DC_UY2</td>\n",
       "      <td>private</td>\n",
       "      <td>Offer</td>\n",
       "      <td>9200</td>\n",
       "      <td>test</td>\n",
       "      <td>NaN</td>\n",
       "      <td>1996</td>\n",
       "      <td>manual</td>\n",
       "      <td>102</td>\n",
       "      <td>transporter</td>\n",
       "      <td>150000</td>\n",
       "      <td>3</td>\n",
       "      <td>NaN</td>\n",
       "      <td>volkswagen</td>\n",
       "      <td>no</td>\n",
       "      <td>20160319</td>\n",
       "      <td>0</td>\n",
       "      <td>87439</td>\n",
       "      <td>20160407</td>\n",
       "    </tr>\n",
       "    <tr>\n",
       "      <td>371526</td>\n",
       "      <td>20160320</td>\n",
       "      <td>VW_Golf_Kombi_1_9l_TDI</td>\n",
       "      <td>private</td>\n",
       "      <td>Offer</td>\n",
       "      <td>3400</td>\n",
       "      <td>test</td>\n",
       "      <td>station wagon</td>\n",
       "      <td>2002</td>\n",
       "      <td>manual</td>\n",
       "      <td>100</td>\n",
       "      <td>golf</td>\n",
       "      <td>150000</td>\n",
       "      <td>6</td>\n",
       "      <td>NaN</td>\n",
       "      <td>volkswagen</td>\n",
       "      <td>NaN</td>\n",
       "      <td>20160320</td>\n",
       "      <td>0</td>\n",
       "      <td>40764</td>\n",
       "      <td>20160324</td>\n",
       "    </tr>\n",
       "    <tr>\n",
       "      <td>371527</td>\n",
       "      <td>20160307</td>\n",
       "      <td>BMW_M135i_vollausgestattet_NP_52.720____Euro</td>\n",
       "      <td>private</td>\n",
       "      <td>Offer</td>\n",
       "      <td>28990</td>\n",
       "      <td>control</td>\n",
       "      <td>NaN</td>\n",
       "      <td>2013</td>\n",
       "      <td>manual</td>\n",
       "      <td>320</td>\n",
       "      <td>m_reihe</td>\n",
       "      <td>50000</td>\n",
       "      <td>8</td>\n",
       "      <td>gasoline</td>\n",
       "      <td>bmw</td>\n",
       "      <td>no</td>\n",
       "      <td>20160307</td>\n",
       "      <td>0</td>\n",
       "      <td>73326</td>\n",
       "      <td>20160322</td>\n",
       "    </tr>\n",
       "  </tbody>\n",
       "</table>\n",
       "<p>359047 rows × 20 columns</p>\n",
       "</div>"
      ],
      "text/plain": [
       "        crawled_date                                          name   seller  \\\n",
       "0           20160324                                    Golf_3_1.6  private   \n",
       "1           20160324                          A5_Sportback_2.7_Tdi  private   \n",
       "2           20160314                Jeep_Grand_Cherokee_\"Overland\"  private   \n",
       "3           20160317                            GOLF_4_1_4__3TÜRER  private   \n",
       "4           20160331                Skoda_Fabia_1.4_TDI_PD_Classic  private   \n",
       "...              ...                                           ...      ...   \n",
       "371523      20160314                    Suche_t4___vito_ab_6_sitze  private   \n",
       "371524      20160305         Smart_smart_leistungssteigerung_100ps  private   \n",
       "371525      20160319            Volkswagen_Multivan_T4_TDI_7DC_UY2  private   \n",
       "371526      20160320                        VW_Golf_Kombi_1_9l_TDI  private   \n",
       "371527      20160307  BMW_M135i_vollausgestattet_NP_52.720____Euro  private   \n",
       "\n",
       "       offer_type  price   abtest   vehicle_type  registration_year  \\\n",
       "0           Offer    480     test            NaN               1993   \n",
       "1           Offer  18300     test            NaN               2011   \n",
       "2           Offer   9800     test            NaN               2004   \n",
       "3           Offer   1500     test      small car               2001   \n",
       "4           Offer   3600     test      small car               2008   \n",
       "...           ...    ...      ...            ...                ...   \n",
       "371523      Offer   2200     test            NaN               2005   \n",
       "371524      Offer   1199     test            NaN               2000   \n",
       "371525      Offer   9200     test            NaN               1996   \n",
       "371526      Offer   3400     test  station wagon               2002   \n",
       "371527      Offer  28990  control            NaN               2013   \n",
       "\n",
       "          gearbox  power_ps        model  kilometer  registration_month  \\\n",
       "0          manual         0         golf     150000                   0   \n",
       "1          manual       190          NaN     125000                   5   \n",
       "2       automatic       163        grand     125000                   8   \n",
       "3          manual        75         golf     150000                   6   \n",
       "4          manual        69        fabia      90000                   7   \n",
       "...           ...       ...          ...        ...                 ...   \n",
       "371523        NaN         0          NaN      20000                   1   \n",
       "371524  automatic       101       fortwo     125000                   3   \n",
       "371525     manual       102  transporter     150000                   3   \n",
       "371526     manual       100         golf     150000                   6   \n",
       "371527     manual       320      m_reihe      50000                   8   \n",
       "\n",
       "       fuel_type           brand unrepaired_damage  ad_created  \\\n",
       "0       gasoline      volkswagen               NaN    20160324   \n",
       "1            NaN            audi               yes    20160324   \n",
       "2            NaN            jeep               NaN    20160314   \n",
       "3       gasoline      volkswagen                no    20160317   \n",
       "4            NaN           skoda                no    20160331   \n",
       "...          ...             ...               ...         ...   \n",
       "371523       NaN  sonstige_autos               NaN    20160314   \n",
       "371524  gasoline           smart                no    20160305   \n",
       "371525       NaN      volkswagen                no    20160319   \n",
       "371526       NaN      volkswagen               NaN    20160320   \n",
       "371527  gasoline             bmw                no    20160307   \n",
       "\n",
       "        nr_of_pictures  postal_code  last_seen  \n",
       "0                    0        70435   20160407  \n",
       "1                    0        66954   20160407  \n",
       "2                    0        90480   20160405  \n",
       "3                    0        91074   20160317  \n",
       "4                    0        60437   20160406  \n",
       "...                ...          ...        ...  \n",
       "371523               0        39576   20160406  \n",
       "371524               0        26135   20160311  \n",
       "371525               0        87439   20160407  \n",
       "371526               0        40764   20160324  \n",
       "371527               0        73326   20160322  \n",
       "\n",
       "[359047 rows x 20 columns]"
      ]
     },
     "execution_count": 37,
     "metadata": {},
     "output_type": "execute_result"
    }
   ],
   "source": [
    "autos['crawled_date'] = autos['crawled_date'].str[:10].str.replace('-','').astype(int)\n",
    "autos['ad_created'] = autos['ad_created'].str[:10].str.replace('-','').astype(int)\n",
    "autos['last_seen'] = autos['last_seen'].str[:10].str.replace('-','').astype(int)\n",
    "autos"
   ]
  },
  {
   "cell_type": "markdown",
   "metadata": {},
   "source": [
    "Now let's check the two other columns which are already in numerical format. First start with **registration_year**:\n"
   ]
  },
  {
   "cell_type": "code",
   "execution_count": 38,
   "metadata": {},
   "outputs": [
    {
     "data": {
      "text/plain": [
       "count    359047.000000\n",
       "mean       2004.443964\n",
       "std          80.907182\n",
       "min        1000.000000\n",
       "25%        1999.000000\n",
       "50%        2004.000000\n",
       "75%        2008.000000\n",
       "max        9999.000000\n",
       "Name: registration_year, dtype: float64"
      ]
     },
     "execution_count": 38,
     "metadata": {},
     "output_type": "execute_result"
    }
   ],
   "source": [
    "autos['registration_year'].describe()"
   ]
  },
  {
   "cell_type": "markdown",
   "metadata": {},
   "source": [
    "Minimum value for registration date is 1000 and maximum value is 9999. Both values are impossible to be real. There is no way a car exists in 1000s and since time travelling machines are not invented yet it is also impossible to be 9999. Let's further investigate this matter.\n",
    "\n",
    "\n",
    "Because a car can't be first registered after the listing was seen, any vehicle with a registration year above 2016 is definitely inaccurate. Determining the earliest valid year is more difficult. Realistically, it could be somewhere in the first few decades of the 1900s.\n",
    "\n",
    "Let's count the number of listings with cars that fall outside the 1900 - 2016 interval and see if it's safe to remove those rows entirely, or if we need more custom logic."
   ]
  },
  {
   "cell_type": "code",
   "execution_count": 39,
   "metadata": {},
   "outputs": [
    {
     "data": {
      "text/plain": [
       "1000    26\n",
       "1001     1\n",
       "1039     1\n",
       "1111     2\n",
       "1234     4\n",
       "1255     1\n",
       "1300     2\n",
       "1400     1\n",
       "1500     3\n",
       "1600     2\n",
       "1602     1\n",
       "1800     4\n",
       "1910    42\n",
       "1911     1\n",
       "1923     3\n",
       "1925     1\n",
       "1927     2\n",
       "1928     2\n",
       "1929     7\n",
       "1930     4\n",
       "Name: registration_year, dtype: int64"
      ]
     },
     "execution_count": 39,
     "metadata": {},
     "output_type": "execute_result"
    }
   ],
   "source": [
    "autos['registration_year'].value_counts().sort_index(ascending=True).head(20)"
   ]
  },
  {
   "cell_type": "markdown",
   "metadata": {},
   "source": [
    "The lowest acceptable value for registration_year could be 1910 since there are 42 cars already registered and a year earlier than that makes no proper sense. Now let's decide the highest acceptable registration year."
   ]
  },
  {
   "cell_type": "code",
   "execution_count": 40,
   "metadata": {
    "scrolled": true
   },
   "outputs": [
    {
     "data": {
      "text/plain": [
       "9999      19\n",
       "9450       1\n",
       "9000       4\n",
       "8888       2\n",
       "8500       1\n",
       "8200       1\n",
       "8000       1\n",
       "7800       1\n",
       "7777       1\n",
       "7500       1\n",
       "7100       1\n",
       "7000       4\n",
       "6200       1\n",
       "6000       6\n",
       "5911       2\n",
       "5900       1\n",
       "5600       1\n",
       "5555       2\n",
       "5300       1\n",
       "5000      15\n",
       "4800       1\n",
       "4500       2\n",
       "4100       1\n",
       "4000       3\n",
       "3800       1\n",
       "3700       1\n",
       "3200       1\n",
       "3000       5\n",
       "2900       1\n",
       "2800       1\n",
       "2500       3\n",
       "2290       1\n",
       "2222       1\n",
       "2200       1\n",
       "2066       1\n",
       "2019      17\n",
       "2018    3798\n",
       "2017    9943\n",
       "2016    9158\n",
       "2015    2857\n",
       "Name: registration_year, dtype: int64"
      ]
     },
     "execution_count": 40,
     "metadata": {},
     "output_type": "execute_result"
    }
   ],
   "source": [
    "autos['registration_year'].value_counts().sort_index(ascending=False).head(40)"
   ]
  },
  {
   "cell_type": "markdown",
   "metadata": {},
   "source": [
    "As I have mentioned above, because a car can't be first registered after the listing was seen, any vehicle with a registration year above 2016 is definitely inaccurate. So we have to remove years down until 2016."
   ]
  },
  {
   "cell_type": "code",
   "execution_count": 41,
   "metadata": {},
   "outputs": [],
   "source": [
    "autos = autos[autos['registration_year'].between(1910,2016)]"
   ]
  },
  {
   "cell_type": "code",
   "execution_count": 42,
   "metadata": {},
   "outputs": [
    {
     "data": {
      "text/plain": [
       "count    345151.000000\n",
       "mean       2002.915608\n",
       "std           7.201893\n",
       "min        1910.000000\n",
       "25%        1999.000000\n",
       "50%        2003.000000\n",
       "75%        2008.000000\n",
       "max        2016.000000\n",
       "Name: registration_year, dtype: float64"
      ]
     },
     "execution_count": 42,
     "metadata": {},
     "output_type": "execute_result"
    }
   ],
   "source": [
    "autos['registration_year'].describe()"
   ]
  },
  {
   "cell_type": "code",
   "execution_count": 43,
   "metadata": {},
   "outputs": [
    {
     "data": {
      "text/plain": [
       "(345151, 20)"
      ]
     },
     "execution_count": 43,
     "metadata": {},
     "output_type": "execute_result"
    }
   ],
   "source": [
    "autos.shape"
   ]
  },
  {
   "cell_type": "code",
   "execution_count": 44,
   "metadata": {
    "scrolled": true
   },
   "outputs": [
    {
     "data": {
      "text/plain": [
       "2000    0.066270\n",
       "1999    0.063549\n",
       "2005    0.062607\n",
       "2006    0.057882\n",
       "2001    0.057027\n",
       "          ...   \n",
       "1928    0.000006\n",
       "1927    0.000006\n",
       "1940    0.000006\n",
       "1925    0.000003\n",
       "1911    0.000003\n",
       "Name: registration_year, Length: 94, dtype: float64"
      ]
     },
     "execution_count": 44,
     "metadata": {},
     "output_type": "execute_result"
    }
   ],
   "source": [
    "autos['registration_year'].value_counts(normalize=True)"
   ]
  },
  {
   "cell_type": "markdown",
   "metadata": {},
   "source": [
    "## Exploring Price by Brand\n",
    "\n",
    "Now let's explore the dataset even further. We can find the top 25 brands and calculate the average price for them."
   ]
  },
  {
   "cell_type": "code",
   "execution_count": 45,
   "metadata": {},
   "outputs": [
    {
     "data": {
      "text/plain": [
       "volkswagen        73081\n",
       "bmw               37886\n",
       "opel              36700\n",
       "mercedes_benz     33441\n",
       "audi              30921\n",
       "ford              23799\n",
       "renault           16406\n",
       "peugeot           10417\n",
       "fiat               8874\n",
       "seat               6448\n",
       "skoda              5433\n",
       "mazda              5317\n",
       "smart              4949\n",
       "citroen            4816\n",
       "nissan             4698\n",
       "toyota             4473\n",
       "hyundai            3449\n",
       "mini               3248\n",
       "sonstige_autos     3196\n",
       "volvo              3160\n",
       "mitsubishi         2843\n",
       "honda              2601\n",
       "kia                2393\n",
       "suzuki             2204\n",
       "alfa_romeo         2170\n",
       "porsche            2146\n",
       "chevrolet          1739\n",
       "chrysler           1331\n",
       "dacia               863\n",
       "jeep                758\n",
       "land_rover          751\n",
       "daihatsu            747\n",
       "subaru              728\n",
       "jaguar              597\n",
       "saab                505\n",
       "daewoo              502\n",
       "trabant             471\n",
       "lancia              446\n",
       "rover               437\n",
       "lada                207\n",
       "Name: brand, dtype: int64"
      ]
     },
     "execution_count": 45,
     "metadata": {},
     "output_type": "execute_result"
    }
   ],
   "source": [
    "autos['brand'].value_counts()"
   ]
  },
  {
   "cell_type": "markdown",
   "metadata": {},
   "source": [
    "There are many brands in the dataset and we can calculate the average price for each one of them but in this notebook only **top 25** of the brands will be selected and their average prices will be calculated. "
   ]
  },
  {
   "cell_type": "code",
   "execution_count": 46,
   "metadata": {},
   "outputs": [],
   "source": [
    "unique_brands = autos['brand'].unique()[:25]\n",
    "\n",
    "#empty dictionary to hold aggregate data\n",
    "top25_brands_means = {}\n",
    "\n",
    "#iterate over unique brands and assign means to the brands in dictionary\n",
    "for brand in unique_brands:\n",
    "    selected_rows = autos.loc[autos['brand'] == brand, 'price']\n",
    "    mean = selected_rows.mean()\n",
    "    top25_brands_means[brand] = mean"
   ]
  },
  {
   "cell_type": "code",
   "execution_count": 47,
   "metadata": {},
   "outputs": [
    {
     "data": {
      "text/plain": [
       "{'volkswagen': 5475.510365211204,\n",
       " 'audi': 9202.938779470263,\n",
       " 'jeep': 12562.236147757256,\n",
       " 'skoda': 6536.516289342904,\n",
       " 'bmw': 8620.892810008974,\n",
       " 'peugeot': 3278.8871076125565,\n",
       " 'ford': 3794.7072986259927,\n",
       " 'mazda': 4088.61576076735,\n",
       " 'nissan': 4724.920178799489,\n",
       " 'renault': 2447.3925393148847,\n",
       " 'mercedes_benz': 8643.26847283275,\n",
       " 'seat': 4556.774038461538,\n",
       " 'honda': 4021.018069973087,\n",
       " 'fiat': 2903.3492224476,\n",
       " 'opel': 3044.620735694823,\n",
       " 'mini': 10096.115455665025,\n",
       " 'smart': 3646.393008688624,\n",
       " 'hyundai': 5579.95216004639,\n",
       " 'alfa_romeo': 4325.348387096774,\n",
       " 'subaru': 4422.26510989011,\n",
       " 'volvo': 5256.635126582279,\n",
       " 'mitsubishi': 3421.8431234611326,\n",
       " 'kia': 5864.963226076055,\n",
       " 'suzuki': 4501.779491833031,\n",
       " 'lancia': 3326.7802690582957}"
      ]
     },
     "execution_count": 47,
     "metadata": {},
     "output_type": "execute_result"
    }
   ],
   "source": [
    "top25_brands_means"
   ]
  },
  {
   "cell_type": "markdown",
   "metadata": {},
   "source": [
    "Great! Now we have the results. We can see the top 25 brands in the dataset and their average prices. The brand with the highest average price is **jeep** whilst the brand with the lowest average is **renault**. "
   ]
  },
  {
   "cell_type": "markdown",
   "metadata": {},
   "source": [
    "### Link Between Mileage and Price\n",
    "\n",
    "We have found out the price means for our dataset however we can make our investigation go even further. Now let's find the correlation between mileage and price means for these top 25 car brands."
   ]
  },
  {
   "cell_type": "code",
   "execution_count": 48,
   "metadata": {},
   "outputs": [],
   "source": [
    "#empty dictionary to hold aggregate data\n",
    "top25_brands_mileage_means = {}\n",
    "\n",
    "#iterate over unique brands and assign means to the brands in dictionary\n",
    "for brand in unique_brands:\n",
    "    selected_rows = autos.loc[autos['brand'] == brand, 'kilometer']\n",
    "    mean = selected_rows.mean()\n",
    "    top25_brands_mileage_means[brand] = mean"
   ]
  },
  {
   "cell_type": "code",
   "execution_count": 49,
   "metadata": {},
   "outputs": [
    {
     "data": {
      "text/plain": [
       "{'volkswagen': 128465.46982115734,\n",
       " 'audi': 129501.63319426926,\n",
       " 'jeep': 120600.26385224274,\n",
       " 'skoda': 113595.61936315111,\n",
       " 'bmw': 132920.33996727024,\n",
       " 'peugeot': 124518.09542094653,\n",
       " 'ford': 123716.54271187865,\n",
       " 'mazda': 125791.79988715441,\n",
       " 'nissan': 119454.02298850575,\n",
       " 'renault': 127897.41557966598,\n",
       " 'mercedes_benz': 130688.07750964384,\n",
       " 'seat': 120600.96153846153,\n",
       " 'honda': 125815.07112648981,\n",
       " 'fiat': 116685.82375478928,\n",
       " 'opel': 128797.41144414169,\n",
       " 'mini': 93283.5591133005,\n",
       " 'smart': 99647.40351586179,\n",
       " 'hyundai': 104067.845752392,\n",
       " 'alfa_romeo': 129232.71889400922,\n",
       " 'subaru': 126373.62637362638,\n",
       " 'volvo': 138219.93670886077,\n",
       " 'mitsubishi': 127045.37460429124,\n",
       " 'kia': 109258.25323861263,\n",
       " 'suzuki': 106690.10889292195,\n",
       " 'lancia': 124103.13901345292}"
      ]
     },
     "execution_count": 49,
     "metadata": {},
     "output_type": "execute_result"
    }
   ],
   "source": [
    "top25_brands_mileage_means"
   ]
  },
  {
   "cell_type": "markdown",
   "metadata": {},
   "source": [
    "We can see the average mileage for the top25 brands above. Nearly all of them are on 100k kilometers band. Let's now check if there exists a relation between prices average and mileage average."
   ]
  },
  {
   "cell_type": "code",
   "execution_count": 50,
   "metadata": {},
   "outputs": [
    {
     "data": {
      "text/plain": [
       "count   345,151.0\n",
       "mean    125,550.8\n",
       "std      39,735.9\n",
       "min       5,000.0\n",
       "25%     100,000.0\n",
       "50%     150,000.0\n",
       "75%     150,000.0\n",
       "max     150,000.0\n",
       "Name: kilometer, dtype: float64"
      ]
     },
     "execution_count": 50,
     "metadata": {},
     "output_type": "execute_result"
    }
   ],
   "source": [
    "# brand prices means cast to pandas series\n",
    "bmp_series = pd.Series(top25_brands_means)\n",
    "\n",
    "# brand mileage means cast to pandas series\n",
    "bmm_series = pd.Series(top25_brands_mileage_means)\n",
    "\n",
    "# put series into a pandas dataframe\n",
    "price_mileage_table = pd.DataFrame(bmp_series, columns=['mean_price'])\n",
    "\n",
    "price_mileage_table['mean_mileage'] = bmm_series\n",
    "\n",
    "# display only 1 digit after decimal point\n",
    "pd.options.display.float_format = '{:,.1f}'.format\n",
    "\n",
    "# display price_mileage_table\n",
    "price_mileage_table\n",
    "\n",
    "autos['kilometer'].describe()"
   ]
  },
  {
   "cell_type": "markdown",
   "metadata": {},
   "source": [
    "There doesn't seem to be a correlation sadly. Almost all of them are on 100k kilometers band. As it can be seen jeep branded cars are on 120k kilometers average but still it is the most expensive brand amongst all of them."
   ]
  },
  {
   "cell_type": "markdown",
   "metadata": {},
   "source": [
    "### Find the most common brand/model combinations"
   ]
  },
  {
   "cell_type": "markdown",
   "metadata": {},
   "source": [
    "Now let's find the most frequent models for each car brand in German eBay."
   ]
  },
  {
   "cell_type": "code",
   "execution_count": 51,
   "metadata": {},
   "outputs": [
    {
     "data": {
      "text/plain": [
       "array(['volkswagen', 'audi', 'jeep', 'skoda', 'bmw', 'peugeot', 'ford',\n",
       "       'mazda', 'nissan', 'renault', 'mercedes_benz', 'seat', 'honda',\n",
       "       'fiat', 'opel', 'mini', 'smart', 'hyundai', 'alfa_romeo', 'subaru',\n",
       "       'volvo', 'mitsubishi', 'kia', 'suzuki', 'lancia'], dtype=object)"
      ]
     },
     "execution_count": 51,
     "metadata": {},
     "output_type": "execute_result"
    }
   ],
   "source": [
    "unique_brands"
   ]
  },
  {
   "cell_type": "code",
   "execution_count": 52,
   "metadata": {},
   "outputs": [
    {
     "data": {
      "text/plain": [
       "{'volkswagen': 'golf',\n",
       " 'audi': 'a4',\n",
       " 'jeep': 'grand',\n",
       " 'skoda': 'octavia',\n",
       " 'bmw': '3er',\n",
       " 'peugeot': '2_reihe',\n",
       " 'ford': 'focus',\n",
       " 'mazda': '6_reihe',\n",
       " 'nissan': 'micra',\n",
       " 'renault': 'twingo',\n",
       " 'mercedes_benz': 'c_klasse',\n",
       " 'seat': 'ibiza',\n",
       " 'honda': 'civic',\n",
       " 'fiat': 'punto',\n",
       " 'opel': 'corsa',\n",
       " 'mini': 'cooper',\n",
       " 'smart': 'fortwo',\n",
       " 'hyundai': 'i_reihe',\n",
       " 'alfa_romeo': '156',\n",
       " 'subaru': 'impreza',\n",
       " 'volvo': 'v40',\n",
       " 'mitsubishi': 'colt',\n",
       " 'kia': 'andere',\n",
       " 'suzuki': 'andere',\n",
       " 'lancia': 'ypsilon'}"
      ]
     },
     "execution_count": 52,
     "metadata": {},
     "output_type": "execute_result"
    }
   ],
   "source": [
    "# dictionary to hold brand:model pairs\n",
    "\n",
    "most_common_models = {}\n",
    "\n",
    "# iterate over all brands\n",
    "\n",
    "for brand in unique_brands:\n",
    "    selected_rows = autos[autos['brand'] == brand]\n",
    "    most_common_model = selected_rows['model'].value_counts().index[0] # get the most frequent model\n",
    "    most_common_models[brand] = most_common_model\n",
    "\n",
    "most_common_models"
   ]
  },
  {
   "cell_type": "markdown",
   "metadata": {},
   "source": [
    "We have the results! For every brand in the dataset we have found the most common model. We could turn this dictionary to a dataframe as well but we are not going to do operations on this result so we are leaving the dictionary as it is."
   ]
  },
  {
   "cell_type": "markdown",
   "metadata": {},
   "source": [
    "### Comparison of the prices for damaged cars and their non-damaged counterparts\n",
    "\n",
    "Now let's find out how much cheaper are damaged cars than their non-damaged counterparts. We are going to use the most common model for each brand and compare their prices. Damaged most common model versus non-damaged most common model."
   ]
  },
  {
   "cell_type": "code",
   "execution_count": 53,
   "metadata": {},
   "outputs": [],
   "source": [
    "# iterate over the keys in most common models dictionary and find damaged, non-damaged cars price means for each brand\n",
    "\n",
    "\n",
    "non_damaged_list = []\n",
    "damaged_list = []\n",
    "\n",
    "for key in most_common_models.keys():\n",
    "    non_damaged_cars = autos[(autos['brand'] == key) & (autos['model'] == most_common_models[key]) & (autos['unrepaired_damage'] == 'no')]\n",
    "    non_damaged_cars_mean = non_damaged_cars['price'].mean()\n",
    "    non_damaged_list.append(non_damaged_cars_mean)\n",
    "\n",
    "    \n",
    "    damaged_cars = autos[(autos['brand'] == key) & (autos['model'] == most_common_models[key]) & (autos['unrepaired_damage'] == 'yes')]\n",
    "    damaged_cars_mean = damaged_cars['price'].mean()\n",
    "    damaged_list.append(damaged_cars_mean)\n",
    "   "
   ]
  },
  {
   "cell_type": "code",
   "execution_count": 54,
   "metadata": {},
   "outputs": [
    {
     "data": {
      "text/html": [
       "<div>\n",
       "<style scoped>\n",
       "    .dataframe tbody tr th:only-of-type {\n",
       "        vertical-align: middle;\n",
       "    }\n",
       "\n",
       "    .dataframe tbody tr th {\n",
       "        vertical-align: top;\n",
       "    }\n",
       "\n",
       "    .dataframe thead th {\n",
       "        text-align: right;\n",
       "    }\n",
       "</style>\n",
       "<table border=\"1\" class=\"dataframe\">\n",
       "  <thead>\n",
       "    <tr style=\"text-align: right;\">\n",
       "      <th></th>\n",
       "      <th>non_damaged_mean</th>\n",
       "      <th>damaged_mean</th>\n",
       "    </tr>\n",
       "  </thead>\n",
       "  <tbody>\n",
       "    <tr>\n",
       "      <td>golf</td>\n",
       "      <td>5,931.7</td>\n",
       "      <td>1,913.0</td>\n",
       "    </tr>\n",
       "    <tr>\n",
       "      <td>a4</td>\n",
       "      <td>7,848.2</td>\n",
       "      <td>2,884.2</td>\n",
       "    </tr>\n",
       "    <tr>\n",
       "      <td>grand</td>\n",
       "      <td>16,163.7</td>\n",
       "      <td>4,733.8</td>\n",
       "    </tr>\n",
       "    <tr>\n",
       "      <td>octavia</td>\n",
       "      <td>8,156.7</td>\n",
       "      <td>4,042.4</td>\n",
       "    </tr>\n",
       "    <tr>\n",
       "      <td>3er</td>\n",
       "      <td>6,934.1</td>\n",
       "      <td>2,341.4</td>\n",
       "    </tr>\n",
       "    <tr>\n",
       "      <td>2_reihe</td>\n",
       "      <td>3,648.2</td>\n",
       "      <td>1,584.9</td>\n",
       "    </tr>\n",
       "    <tr>\n",
       "      <td>focus</td>\n",
       "      <td>4,743.8</td>\n",
       "      <td>1,419.2</td>\n",
       "    </tr>\n",
       "    <tr>\n",
       "      <td>6_reihe</td>\n",
       "      <td>4,292.3</td>\n",
       "      <td>1,746.5</td>\n",
       "    </tr>\n",
       "    <tr>\n",
       "      <td>micra</td>\n",
       "      <td>2,204.9</td>\n",
       "      <td>938.9</td>\n",
       "    </tr>\n",
       "    <tr>\n",
       "      <td>twingo</td>\n",
       "      <td>1,782.0</td>\n",
       "      <td>677.5</td>\n",
       "    </tr>\n",
       "    <tr>\n",
       "      <td>c_klasse</td>\n",
       "      <td>7,725.2</td>\n",
       "      <td>3,297.3</td>\n",
       "    </tr>\n",
       "    <tr>\n",
       "      <td>ibiza</td>\n",
       "      <td>4,346.6</td>\n",
       "      <td>1,814.6</td>\n",
       "    </tr>\n",
       "    <tr>\n",
       "      <td>civic</td>\n",
       "      <td>3,704.6</td>\n",
       "      <td>1,319.7</td>\n",
       "    </tr>\n",
       "    <tr>\n",
       "      <td>punto</td>\n",
       "      <td>2,052.8</td>\n",
       "      <td>843.8</td>\n",
       "    </tr>\n",
       "    <tr>\n",
       "      <td>corsa</td>\n",
       "      <td>2,417.5</td>\n",
       "      <td>982.4</td>\n",
       "    </tr>\n",
       "    <tr>\n",
       "      <td>cooper</td>\n",
       "      <td>11,673.2</td>\n",
       "      <td>5,262.9</td>\n",
       "    </tr>\n",
       "    <tr>\n",
       "      <td>fortwo</td>\n",
       "      <td>4,032.6</td>\n",
       "      <td>1,247.4</td>\n",
       "    </tr>\n",
       "    <tr>\n",
       "      <td>i_reihe</td>\n",
       "      <td>8,993.6</td>\n",
       "      <td>4,410.4</td>\n",
       "    </tr>\n",
       "    <tr>\n",
       "      <td>156</td>\n",
       "      <td>1,899.7</td>\n",
       "      <td>794.9</td>\n",
       "    </tr>\n",
       "    <tr>\n",
       "      <td>impreza</td>\n",
       "      <td>7,130.4</td>\n",
       "      <td>3,997.7</td>\n",
       "    </tr>\n",
       "    <tr>\n",
       "      <td>v40</td>\n",
       "      <td>2,226.1</td>\n",
       "      <td>766.4</td>\n",
       "    </tr>\n",
       "    <tr>\n",
       "      <td>colt</td>\n",
       "      <td>2,906.1</td>\n",
       "      <td>1,325.0</td>\n",
       "    </tr>\n",
       "    <tr>\n",
       "      <td>andere</td>\n",
       "      <td>4,147.7</td>\n",
       "      <td>1,484.6</td>\n",
       "    </tr>\n",
       "    <tr>\n",
       "      <td>andere</td>\n",
       "      <td>4,645.5</td>\n",
       "      <td>1,247.7</td>\n",
       "    </tr>\n",
       "    <tr>\n",
       "      <td>ypsilon</td>\n",
       "      <td>1,718.6</td>\n",
       "      <td>722.0</td>\n",
       "    </tr>\n",
       "  </tbody>\n",
       "</table>\n",
       "</div>"
      ],
      "text/plain": [
       "          non_damaged_mean  damaged_mean\n",
       "golf               5,931.7       1,913.0\n",
       "a4                 7,848.2       2,884.2\n",
       "grand             16,163.7       4,733.8\n",
       "octavia            8,156.7       4,042.4\n",
       "3er                6,934.1       2,341.4\n",
       "2_reihe            3,648.2       1,584.9\n",
       "focus              4,743.8       1,419.2\n",
       "6_reihe            4,292.3       1,746.5\n",
       "micra              2,204.9         938.9\n",
       "twingo             1,782.0         677.5\n",
       "c_klasse           7,725.2       3,297.3\n",
       "ibiza              4,346.6       1,814.6\n",
       "civic              3,704.6       1,319.7\n",
       "punto              2,052.8         843.8\n",
       "corsa              2,417.5         982.4\n",
       "cooper            11,673.2       5,262.9\n",
       "fortwo             4,032.6       1,247.4\n",
       "i_reihe            8,993.6       4,410.4\n",
       "156                1,899.7         794.9\n",
       "impreza            7,130.4       3,997.7\n",
       "v40                2,226.1         766.4\n",
       "colt               2,906.1       1,325.0\n",
       "andere             4,147.7       1,484.6\n",
       "andere             4,645.5       1,247.7\n",
       "ypsilon            1,718.6         722.0"
      ]
     },
     "execution_count": 54,
     "metadata": {},
     "output_type": "execute_result"
    }
   ],
   "source": [
    "# zip function is used to add lists as rows to the dataframe\n",
    "df = pd.DataFrame(zip(non_damaged_list, damaged_list), columns=['non_damaged_mean', 'damaged_mean'], index=most_common_models.values()) \n",
    "df"
   ]
  },
  {
   "cell_type": "markdown",
   "metadata": {},
   "source": [
    "Here are the results! As it can be seen, for each brand's most common cars both damaged and non-damaged price means are compared. Without proper calculation it can be directly seen from the dataframe that damaged cars are **50%** cheaper than their non-damaged counterparts.\n",
    "\n",
    "## Conclusions:\n",
    "\n",
    "In this notebook we have analysed dataset of used cars on German eBay. We started with translating German keywords to their English counterparts. Then we proceed to rename the columns in a way that we can easily understand what they all represent. After further exploration we have noticed that *offer type* and *seller* columns almost include only one value thus they are candidate columns to be dropped. Then we have cleaned the *price* column along with *kilometer* column. Lastly we handled date type columns and converted date types to numeric data for further purposes.\n",
    "\n",
    "According to our exploration on the dataset:\n",
    "    1. Most listed brands are respectively Volkswagen, BMW and Opel.\n",
    "    2. Most expensive brands are respectively Jeep, Mini and Audi.\n",
    "    3. There exists no proper correlation between a car's mileage and its price. Cars with the highest mileage are naturally cheaper than their lesser used versions.\n",
    "    4. Most listed models of the most listed brands are respectively Golf, 3er, Corsa.\n",
    "    5. Damaged cars are 50% cheaper than their non-damaged counterparts. "
   ]
  }
 ],
 "metadata": {
  "kernelspec": {
   "display_name": "Python 3",
   "language": "python",
   "name": "python3"
  },
  "language_info": {
   "codemirror_mode": {
    "name": "ipython",
    "version": 3
   },
   "file_extension": ".py",
   "mimetype": "text/x-python",
   "name": "python",
   "nbconvert_exporter": "python",
   "pygments_lexer": "ipython3",
   "version": "3.7.4"
  }
 },
 "nbformat": 4,
 "nbformat_minor": 2
}
